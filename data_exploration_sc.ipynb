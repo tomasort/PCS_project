{
 "cells": [
  {
   "cell_type": "code",
   "execution_count": 1,
   "outputs": [],
   "source": [
    "import numpy as np\n",
    "import pandas as pd\n",
    "from sklearn.preprocessing import LabelEncoder\n",
    "import matplotlib.pyplot as plt\n",
    "from sklearn.preprocessing import StandardScaler\n",
    "from sklearn.model_selection import train_test_split\n",
    "from sklearn.pipeline import Pipeline\n",
    "%matplotlib inline"
   ],
   "metadata": {
    "collapsed": false,
    "pycharm": {
     "name": "#%%\n"
    }
   }
  },
  {
   "cell_type": "code",
   "execution_count": 2,
   "outputs": [
    {
     "name": "stderr",
     "output_type": "stream",
     "text": [
      "/Users/tomasortega/Desktop/PCS_project/venv/lib/python3.9/site-packages/IPython/core/interactiveshell.py:3146: DtypeWarning: Columns (109) have mixed types.Specify dtype option on import or set low_memory=False.\n",
      "  has_raised = await self.run_ast_nodes(code_ast.body, cell_name,\n"
     ]
    }
   ],
   "source": [
    "pd.set_option('display.max_rows', 200)\n",
    "data = pd.read_csv(\"collected_data_merged.csv\")\n",
    "webclass_df = pd.read_csv(\"original_datasets/Webpages_Classification_train_data.csv\")\n"
   ],
   "metadata": {
    "collapsed": false,
    "pycharm": {
     "name": "#%%\n"
    }
   }
  },
  {
   "cell_type": "code",
   "execution_count": 3,
   "outputs": [],
   "source": [
    "encoder = LabelEncoder()\n",
    "df = data\n",
    "df['file_ext'] = df['file_ext'].replace(float(\"nan\"), \"\").astype(\"string\")\n",
    "df['tld'] = df['tld'].replace(float(\"nan\"), \"\").astype(\"string\")\n",
    "df['dom_country'] = df['dom_country'].replace(float(\"nan\"), \"\").astype(\"string\")\n",
    "df['asn_ip'] = df['asn_ip'].replace(float(\"nan\"), \"\").astype(\"string\")\n",
    "\n",
    "df['file_ext_enc'] = encoder.fit_transform(df['file_ext'])\n",
    "df['tld_enc'] = encoder.fit_transform(df['tld'])\n",
    "df['dom_country_enc'] = encoder.fit_transform(df['dom_country'])\n",
    "df['asn_ip_enc'] = encoder.fit_transform(df['asn_ip'])\n",
    "df.drop(df[df['url'].isin(webclass_df['url'])].index, inplace=True)"
   ],
   "metadata": {
    "collapsed": false,
    "pycharm": {
     "name": "#%%\n"
    }
   }
  },
  {
   "cell_type": "code",
   "execution_count": 4,
   "outputs": [],
   "source": [
    "df.sort_values('live', inplace=True)\n",
    "df.drop_duplicates(['url'], keep='first', inplace=True)\n",
    "df.drop(['url', 'file_ext', 'tld', 'asn_ip', 'dom_country', 'port', 'iframes'], axis=1, inplace=True)"
   ],
   "metadata": {
    "collapsed": false,
    "pycharm": {
     "name": "#%%\n"
    }
   }
  },
  {
   "cell_type": "code",
   "execution_count": 5,
   "outputs": [],
   "source": [
    "# df.to_csv(\"phishing.csv\", index=False)"
   ],
   "metadata": {
    "collapsed": false,
    "pycharm": {
     "name": "#%%\n"
    }
   }
  },
  {
   "cell_type": "code",
   "execution_count": 6,
   "outputs": [],
   "source": [
    "train_set, test_set = train_test_split(df, test_size=0.2, random_state=42)"
   ],
   "metadata": {
    "collapsed": false,
    "pycharm": {
     "name": "#%%\n"
    }
   }
  },
  {
   "cell_type": "markdown",
   "source": [
    "Transformation pipeline"
   ],
   "metadata": {
    "collapsed": false,
    "pycharm": {
     "name": "#%% md\n"
    }
   }
  },
  {
   "cell_type": "code",
   "execution_count": 7,
   "outputs": [],
   "source": [
    "scaler = StandardScaler()\n",
    "\n",
    "train_labels = train_set['label']\n",
    "train_set = train_set.drop(['label'], axis=1)\n",
    "df = pd.DataFrame(scaler.fit_transform(train_set), columns=train_set.columns)\n"
   ],
   "metadata": {
    "collapsed": false,
    "pycharm": {
     "name": "#%%\n"
    }
   }
  },
  {
   "cell_type": "code",
   "execution_count": 8,
   "outputs": [
    {
     "name": "stderr",
     "output_type": "stream",
     "text": [
      "/Users/tomasortega/Desktop/PCS_project/venv/lib/python3.9/site-packages/sklearn/linear_model/_logistic.py:763: ConvergenceWarning: lbfgs failed to converge (status=1):\n",
      "STOP: TOTAL NO. of ITERATIONS REACHED LIMIT.\n",
      "\n",
      "Increase the number of iterations (max_iter) or scale the data as shown in:\n",
      "    https://scikit-learn.org/stable/modules/preprocessing.html\n",
      "Please also refer to the documentation for alternative solver options:\n",
      "    https://scikit-learn.org/stable/modules/linear_model.html#logistic-regression\n",
      "  n_iter_i = _check_optimize_result(\n"
     ]
    },
    {
     "data": {
      "text/plain": "LogisticRegression()"
     },
     "execution_count": 8,
     "metadata": {},
     "output_type": "execute_result"
    }
   ],
   "source": [
    "from sklearn.linear_model import LogisticRegression\n",
    "from sklearn.model_selection import cross_val_score\n",
    "\n",
    "lin_reg = LogisticRegression()\n",
    "lin_reg.fit(train_set, train_labels)"
   ],
   "metadata": {
    "collapsed": false,
    "pycharm": {
     "name": "#%%\n"
    }
   }
  },
  {
   "cell_type": "code",
   "execution_count": 9,
   "outputs": [
    {
     "name": "stdout",
     "output_type": "stream",
     "text": [
      "Predictions:  [1 0 1 1 0 0 0 1 0 1 1 1 0 1 1 1 0 1 1 1]\n",
      "Actual labels:  [1, 0, 0, 1, 0, 0, 0, 1, 0, 1, 1, 1, 1, 0, 1, 1, 0, 1, 0, 1]\n"
     ]
    }
   ],
   "source": [
    "some_data = test_set.iloc[0:20]\n",
    "print(\"Predictions: \", lin_reg.predict(some_data.drop(['label'], axis=1)))\n",
    "print(\"Actual labels: \", list(some_data['label']))"
   ],
   "metadata": {
    "collapsed": false,
    "pycharm": {
     "name": "#%%\n"
    }
   }
  },
  {
   "cell_type": "code",
   "execution_count": 10,
   "outputs": [
    {
     "name": "stdout",
     "output_type": "stream",
     "text": [
      "coefficient of determination: 0.8918208551279049\n"
     ]
    }
   ],
   "source": [
    "r_sq = lin_reg.score(train_set, train_labels)\n",
    "print('coefficient of determination:', r_sq)\n",
    "# scores = cross_val_score(lin_reg, train_set.drop([\"label\"], axis=1), train_set['label'], scoring=\"neg_mean_squared_error\", cv=10)\n",
    "# lin_rmse_score = np.sqrt(-scores)"
   ],
   "metadata": {
    "collapsed": false,
    "pycharm": {
     "name": "#%%\n"
    }
   }
  }
 ],
 "metadata": {
  "kernelspec": {
   "display_name": "Python 3",
   "language": "python",
   "name": "python3"
  },
  "language_info": {
   "codemirror_mode": {
    "name": "ipython",
    "version": 2
   },
   "file_extension": ".py",
   "mimetype": "text/x-python",
   "name": "python",
   "nbconvert_exporter": "python",
   "pygments_lexer": "ipython2",
   "version": "2.7.6"
  }
 },
 "nbformat": 4,
 "nbformat_minor": 0
}