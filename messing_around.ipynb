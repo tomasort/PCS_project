{
 "cells": [
  {
   "cell_type": "code",
   "execution_count": 24,
   "metadata": {
    "collapsed": true,
    "pycharm": {
     "name": "#%%\n"
    }
   },
   "outputs": [],
   "source": [
    "import numpy as np\n",
    "import requests\n",
    "import pandas as pd"
   ]
  },
  {
   "cell_type": "markdown",
   "source": [
    "First we combine every dataset that we found into one large dataset with the url for each phishing website"
   ],
   "metadata": {
    "collapsed": false,
    "pycharm": {
     "name": "#%% md\n"
    }
   }
  },
  {
   "cell_type": "markdown",
   "source": [
    "We first start with the datasets from PhishTank."
   ],
   "metadata": {
    "collapsed": false,
    "pycharm": {
     "name": "#%% md\n"
    }
   }
  },
  {
   "cell_type": "code",
   "execution_count": 25,
   "outputs": [
    {
     "data": {
      "text/plain": "   phish_id                                                url  \\\n0   7085908              https://www.li.cmu.ac.th/ai/bt/b274a/   \n1   7085907                     https://www.li.cmu.ac.th/ai/bt   \n2   7085903  https://538424.selcdn.ru/login-index/r.html?email   \n3   7085898          https://internetclaremore.com/service.php   \n4   7085893  https://dreamspreetravel.com/azm/clients/QbPLX...   \n\n                                    phish_detail_url  \\\n0  http://www.phishtank.com/phish_detail.php?phis...   \n1  http://www.phishtank.com/phish_detail.php?phis...   \n2  http://www.phishtank.com/phish_detail.php?phis...   \n3  http://www.phishtank.com/phish_detail.php?phis...   \n4  http://www.phishtank.com/phish_detail.php?phis...   \n\n             submission_time verified          verification_time online target  \n0  2021-04-26T08:00:22+00:00      yes  2021-04-26T08:01:59+00:00    yes  Other  \n1  2021-04-26T08:00:19+00:00      yes  2021-04-26T08:01:59+00:00    yes  Other  \n2  2021-04-26T07:55:58+00:00      yes  2021-04-26T08:00:36+00:00    yes  Other  \n3  2021-04-26T07:30:19+00:00      yes  2021-04-26T07:34:32+00:00    yes  Other  \n4  2021-04-26T07:16:43+00:00      yes  2021-04-26T07:22:12+00:00    yes  Other  ",
      "text/html": "<div>\n<style scoped>\n    .dataframe tbody tr th:only-of-type {\n        vertical-align: middle;\n    }\n\n    .dataframe tbody tr th {\n        vertical-align: top;\n    }\n\n    .dataframe thead th {\n        text-align: right;\n    }\n</style>\n<table border=\"1\" class=\"dataframe\">\n  <thead>\n    <tr style=\"text-align: right;\">\n      <th></th>\n      <th>phish_id</th>\n      <th>url</th>\n      <th>phish_detail_url</th>\n      <th>submission_time</th>\n      <th>verified</th>\n      <th>verification_time</th>\n      <th>online</th>\n      <th>target</th>\n    </tr>\n  </thead>\n  <tbody>\n    <tr>\n      <th>0</th>\n      <td>7085908</td>\n      <td>https://www.li.cmu.ac.th/ai/bt/b274a/</td>\n      <td>http://www.phishtank.com/phish_detail.php?phis...</td>\n      <td>2021-04-26T08:00:22+00:00</td>\n      <td>yes</td>\n      <td>2021-04-26T08:01:59+00:00</td>\n      <td>yes</td>\n      <td>Other</td>\n    </tr>\n    <tr>\n      <th>1</th>\n      <td>7085907</td>\n      <td>https://www.li.cmu.ac.th/ai/bt</td>\n      <td>http://www.phishtank.com/phish_detail.php?phis...</td>\n      <td>2021-04-26T08:00:19+00:00</td>\n      <td>yes</td>\n      <td>2021-04-26T08:01:59+00:00</td>\n      <td>yes</td>\n      <td>Other</td>\n    </tr>\n    <tr>\n      <th>2</th>\n      <td>7085903</td>\n      <td>https://538424.selcdn.ru/login-index/r.html?email</td>\n      <td>http://www.phishtank.com/phish_detail.php?phis...</td>\n      <td>2021-04-26T07:55:58+00:00</td>\n      <td>yes</td>\n      <td>2021-04-26T08:00:36+00:00</td>\n      <td>yes</td>\n      <td>Other</td>\n    </tr>\n    <tr>\n      <th>3</th>\n      <td>7085898</td>\n      <td>https://internetclaremore.com/service.php</td>\n      <td>http://www.phishtank.com/phish_detail.php?phis...</td>\n      <td>2021-04-26T07:30:19+00:00</td>\n      <td>yes</td>\n      <td>2021-04-26T07:34:32+00:00</td>\n      <td>yes</td>\n      <td>Other</td>\n    </tr>\n    <tr>\n      <th>4</th>\n      <td>7085893</td>\n      <td>https://dreamspreetravel.com/azm/clients/QbPLX...</td>\n      <td>http://www.phishtank.com/phish_detail.php?phis...</td>\n      <td>2021-04-26T07:16:43+00:00</td>\n      <td>yes</td>\n      <td>2021-04-26T07:22:12+00:00</td>\n      <td>yes</td>\n      <td>Other</td>\n    </tr>\n  </tbody>\n</table>\n</div>"
     },
     "execution_count": 25,
     "metadata": {},
     "output_type": "execute_result"
    }
   ],
   "source": [
    "apr_df = pd.read_csv(\"original_datasets/verified_online_april_26_2021.csv\")\n",
    "apr_df.head()\n",
    "\n",
    "apr_df = apr_df['url']"
   ],
   "metadata": {
    "collapsed": false,
    "pycharm": {
     "name": "#%%\n"
    }
   }
  },
  {
   "cell_type": "code",
   "execution_count": null,
   "outputs": [],
   "source": [
    "march_df = pd.read_csv(\"original_datasets/verified_online_march_21_2021.csv\")\n",
    "march_df.head()"
   ],
   "metadata": {
    "collapsed": false,
    "pycharm": {
     "name": "#%%\n"
    }
   }
  },
  {
   "cell_type": "code",
   "execution_count": null,
   "outputs": [],
   "source": [
    "march_df = march_df['url']"
   ],
   "metadata": {
    "collapsed": false,
    "pycharm": {
     "name": "#%%\n"
    }
   }
  },
  {
   "cell_type": "code",
   "execution_count": 29,
   "outputs": [
    {
     "data": {
      "text/plain": "   phish_id                                                url  \\\n0   7045948                          https://olx.pl-posta.cyou   \n1   7045944  https://track.link-hit.info/daee0ec7-58bd-4ecb...   \n2   7045932                   https://my.jcb.co.jp.zblbbg.com/   \n3   7045929  https://npct.law-harvard.com/green/bnqsjz64x65...   \n4   7045928  https://littlefoots.ru/f745544fa2469c722ee8860...   \n\n                                    phish_detail_url  \\\n0  http://www.phishtank.com/phish_detail.php?phis...   \n1  http://www.phishtank.com/phish_detail.php?phis...   \n2  http://www.phishtank.com/phish_detail.php?phis...   \n3  http://www.phishtank.com/phish_detail.php?phis...   \n4  http://www.phishtank.com/phish_detail.php?phis...   \n\n             submission_time verified          verification_time online target  \n0  2021-03-26T14:43:08+00:00      yes  2021-03-26T14:47:49+00:00    yes  Other  \n1  2021-03-26T14:35:47+00:00      yes  2021-03-26T14:37:40+00:00    yes  Other  \n2  2021-03-26T14:14:17+00:00      yes  2021-03-26T14:22:55+00:00    yes  Other  \n3  2021-03-26T14:12:06+00:00      yes  2021-03-26T14:22:00+00:00    yes  Other  \n4  2021-03-26T14:10:18+00:00      yes  2021-03-26T14:22:00+00:00    yes  Other  ",
      "text/html": "<div>\n<style scoped>\n    .dataframe tbody tr th:only-of-type {\n        vertical-align: middle;\n    }\n\n    .dataframe tbody tr th {\n        vertical-align: top;\n    }\n\n    .dataframe thead th {\n        text-align: right;\n    }\n</style>\n<table border=\"1\" class=\"dataframe\">\n  <thead>\n    <tr style=\"text-align: right;\">\n      <th></th>\n      <th>phish_id</th>\n      <th>url</th>\n      <th>phish_detail_url</th>\n      <th>submission_time</th>\n      <th>verified</th>\n      <th>verification_time</th>\n      <th>online</th>\n      <th>target</th>\n    </tr>\n  </thead>\n  <tbody>\n    <tr>\n      <th>0</th>\n      <td>7045948</td>\n      <td>https://olx.pl-posta.cyou</td>\n      <td>http://www.phishtank.com/phish_detail.php?phis...</td>\n      <td>2021-03-26T14:43:08+00:00</td>\n      <td>yes</td>\n      <td>2021-03-26T14:47:49+00:00</td>\n      <td>yes</td>\n      <td>Other</td>\n    </tr>\n    <tr>\n      <th>1</th>\n      <td>7045944</td>\n      <td>https://track.link-hit.info/daee0ec7-58bd-4ecb...</td>\n      <td>http://www.phishtank.com/phish_detail.php?phis...</td>\n      <td>2021-03-26T14:35:47+00:00</td>\n      <td>yes</td>\n      <td>2021-03-26T14:37:40+00:00</td>\n      <td>yes</td>\n      <td>Other</td>\n    </tr>\n    <tr>\n      <th>2</th>\n      <td>7045932</td>\n      <td>https://my.jcb.co.jp.zblbbg.com/</td>\n      <td>http://www.phishtank.com/phish_detail.php?phis...</td>\n      <td>2021-03-26T14:14:17+00:00</td>\n      <td>yes</td>\n      <td>2021-03-26T14:22:55+00:00</td>\n      <td>yes</td>\n      <td>Other</td>\n    </tr>\n    <tr>\n      <th>3</th>\n      <td>7045929</td>\n      <td>https://npct.law-harvard.com/green/bnqsjz64x65...</td>\n      <td>http://www.phishtank.com/phish_detail.php?phis...</td>\n      <td>2021-03-26T14:12:06+00:00</td>\n      <td>yes</td>\n      <td>2021-03-26T14:22:00+00:00</td>\n      <td>yes</td>\n      <td>Other</td>\n    </tr>\n    <tr>\n      <th>4</th>\n      <td>7045928</td>\n      <td>https://littlefoots.ru/f745544fa2469c722ee8860...</td>\n      <td>http://www.phishtank.com/phish_detail.php?phis...</td>\n      <td>2021-03-26T14:10:18+00:00</td>\n      <td>yes</td>\n      <td>2021-03-26T14:22:00+00:00</td>\n      <td>yes</td>\n      <td>Other</td>\n    </tr>\n  </tbody>\n</table>\n</div>"
     },
     "execution_count": 29,
     "metadata": {},
     "output_type": "execute_result"
    }
   ],
   "source": [
    "ph1_df = pd.read_csv(\"original_datasets/verified_online_1.csv\")\n",
    "ph1_df.head()"
   ],
   "metadata": {
    "collapsed": false,
    "pycharm": {
     "name": "#%%\n"
    }
   }
  },
  {
   "cell_type": "code",
   "execution_count": 30,
   "outputs": [],
   "source": [
    "ph1_df = ph1_df['url']"
   ],
   "metadata": {
    "collapsed": false,
    "pycharm": {
     "name": "#%%\n"
    }
   }
  },
  {
   "cell_type": "code",
   "execution_count": 31,
   "outputs": [
    {
     "data": {
      "text/plain": "   phish_id                                                url  \\\n0   7037966  https://mail.aggboatwrightmeritain.org/STOCKHA...   \n1   7037965  https://web4816.web07.bero-webspace.de/Page-st...   \n2   7037964                             https://kutt.it/ics-3d   \n3   7037963             https://instacanliyayinlar.live/login/   \n4   7037962              https://instacanliyayinlar.live/login   \n\n                                    phish_detail_url  \\\n0  http://www.phishtank.com/phish_detail.php?phis...   \n1  http://www.phishtank.com/phish_detail.php?phis...   \n2  http://www.phishtank.com/phish_detail.php?phis...   \n3  http://www.phishtank.com/phish_detail.php?phis...   \n4  http://www.phishtank.com/phish_detail.php?phis...   \n\n             submission_time verified          verification_time online target  \n0  2021-03-21T14:02:36+00:00      yes  2021-03-21T14:08:13+00:00    yes  Other  \n1  2021-03-21T14:02:32+00:00      yes  2021-03-21T14:08:14+00:00    yes  Other  \n2  2021-03-21T14:02:31+00:00      yes  2021-03-21T14:08:14+00:00    yes  Other  \n3  2021-03-21T14:02:27+00:00      yes  2021-03-21T14:08:14+00:00    yes  Other  \n4  2021-03-21T14:02:26+00:00      yes  2021-03-21T14:08:14+00:00    yes  Other  ",
      "text/html": "<div>\n<style scoped>\n    .dataframe tbody tr th:only-of-type {\n        vertical-align: middle;\n    }\n\n    .dataframe tbody tr th {\n        vertical-align: top;\n    }\n\n    .dataframe thead th {\n        text-align: right;\n    }\n</style>\n<table border=\"1\" class=\"dataframe\">\n  <thead>\n    <tr style=\"text-align: right;\">\n      <th></th>\n      <th>phish_id</th>\n      <th>url</th>\n      <th>phish_detail_url</th>\n      <th>submission_time</th>\n      <th>verified</th>\n      <th>verification_time</th>\n      <th>online</th>\n      <th>target</th>\n    </tr>\n  </thead>\n  <tbody>\n    <tr>\n      <th>0</th>\n      <td>7037966</td>\n      <td>https://mail.aggboatwrightmeritain.org/STOCKHA...</td>\n      <td>http://www.phishtank.com/phish_detail.php?phis...</td>\n      <td>2021-03-21T14:02:36+00:00</td>\n      <td>yes</td>\n      <td>2021-03-21T14:08:13+00:00</td>\n      <td>yes</td>\n      <td>Other</td>\n    </tr>\n    <tr>\n      <th>1</th>\n      <td>7037965</td>\n      <td>https://web4816.web07.bero-webspace.de/Page-st...</td>\n      <td>http://www.phishtank.com/phish_detail.php?phis...</td>\n      <td>2021-03-21T14:02:32+00:00</td>\n      <td>yes</td>\n      <td>2021-03-21T14:08:14+00:00</td>\n      <td>yes</td>\n      <td>Other</td>\n    </tr>\n    <tr>\n      <th>2</th>\n      <td>7037964</td>\n      <td>https://kutt.it/ics-3d</td>\n      <td>http://www.phishtank.com/phish_detail.php?phis...</td>\n      <td>2021-03-21T14:02:31+00:00</td>\n      <td>yes</td>\n      <td>2021-03-21T14:08:14+00:00</td>\n      <td>yes</td>\n      <td>Other</td>\n    </tr>\n    <tr>\n      <th>3</th>\n      <td>7037963</td>\n      <td>https://instacanliyayinlar.live/login/</td>\n      <td>http://www.phishtank.com/phish_detail.php?phis...</td>\n      <td>2021-03-21T14:02:27+00:00</td>\n      <td>yes</td>\n      <td>2021-03-21T14:08:14+00:00</td>\n      <td>yes</td>\n      <td>Other</td>\n    </tr>\n    <tr>\n      <th>4</th>\n      <td>7037962</td>\n      <td>https://instacanliyayinlar.live/login</td>\n      <td>http://www.phishtank.com/phish_detail.php?phis...</td>\n      <td>2021-03-21T14:02:26+00:00</td>\n      <td>yes</td>\n      <td>2021-03-21T14:08:14+00:00</td>\n      <td>yes</td>\n      <td>Other</td>\n    </tr>\n  </tbody>\n</table>\n</div>"
     },
     "execution_count": 31,
     "metadata": {},
     "output_type": "execute_result"
    }
   ],
   "source": [
    "ph2_df = pd.read_csv(\"original_datasets/verified_online_2.csv\")\n",
    "ph2_df.head()"
   ],
   "metadata": {
    "collapsed": false,
    "pycharm": {
     "name": "#%%\n"
    }
   }
  },
  {
   "cell_type": "code",
   "execution_count": 32,
   "outputs": [],
   "source": [
    "ph2_df = ph2_df['url']"
   ],
   "metadata": {
    "collapsed": false,
    "pycharm": {
     "name": "#%%\n"
    }
   }
  },
  {
   "cell_type": "markdown",
   "source": [
    "Now we focus on data from other sources"
   ],
   "metadata": {
    "collapsed": false,
    "pycharm": {
     "name": "#%% md\n"
    }
   }
  },
  {
   "cell_type": "code",
   "execution_count": 33,
   "outputs": [
    {
     "data": {
      "text/plain": "                                                 url\n0          https://youtubergrub.freefire011-bgid.cf/\n1  https://youtubergrub.freefire011-bgid.cf/login...\n2      https://www.youtubergrub.freefire011-bgid.cf/\n3  https://www.youtubergrub.freefire011-bgid.cf/l...\n4  https://www.13-59-181-170.cprapid.com/index.ph...",
      "text/html": "<div>\n<style scoped>\n    .dataframe tbody tr th:only-of-type {\n        vertical-align: middle;\n    }\n\n    .dataframe tbody tr th {\n        vertical-align: top;\n    }\n\n    .dataframe thead th {\n        text-align: right;\n    }\n</style>\n<table border=\"1\" class=\"dataframe\">\n  <thead>\n    <tr style=\"text-align: right;\">\n      <th></th>\n      <th>url</th>\n    </tr>\n  </thead>\n  <tbody>\n    <tr>\n      <th>0</th>\n      <td>https://youtubergrub.freefire011-bgid.cf/</td>\n    </tr>\n    <tr>\n      <th>1</th>\n      <td>https://youtubergrub.freefire011-bgid.cf/login...</td>\n    </tr>\n    <tr>\n      <th>2</th>\n      <td>https://www.youtubergrub.freefire011-bgid.cf/</td>\n    </tr>\n    <tr>\n      <th>3</th>\n      <td>https://www.youtubergrub.freefire011-bgid.cf/l...</td>\n    </tr>\n    <tr>\n      <th>4</th>\n      <td>https://www.13-59-181-170.cprapid.com/index.ph...</td>\n    </tr>\n  </tbody>\n</table>\n</div>"
     },
     "execution_count": 33,
     "metadata": {},
     "output_type": "execute_result"
    }
   ],
   "source": [
    "ph3_df = pd.read_csv('original_datasets/phishing_1.txt', header=None, sep='\\t', names=['url'])\n",
    "ph3_df = ph3_df.rename({'0': 'url'})\n",
    "ph3_df.head()"
   ],
   "metadata": {
    "collapsed": false,
    "pycharm": {
     "name": "#%%\n"
    }
   }
  },
  {
   "cell_type": "code",
   "execution_count": 34,
   "outputs": [],
   "source": [
    "ph3_df = ph3_df['url']"
   ],
   "metadata": {
    "collapsed": false,
    "pycharm": {
     "name": "#%%\n"
    }
   }
  },
  {
   "cell_type": "code",
   "execution_count": 35,
   "outputs": [
    {
     "data": {
      "text/plain": "                                                 url\n0  https://services.runescape.com-oc.ru/m=weblogi...\n1           https://whatsapp-viral.new-bonustx08.gq/\n2       https://www.whatsapp-viral.new-bonustx08.gq/\n3  https://whatsapp-viral.new-bonustx08.gq/login.php\n4  https://www.whatsapp-viral.new-bonustx08.gq/lo...",
      "text/html": "<div>\n<style scoped>\n    .dataframe tbody tr th:only-of-type {\n        vertical-align: middle;\n    }\n\n    .dataframe tbody tr th {\n        vertical-align: top;\n    }\n\n    .dataframe thead th {\n        text-align: right;\n    }\n</style>\n<table border=\"1\" class=\"dataframe\">\n  <thead>\n    <tr style=\"text-align: right;\">\n      <th></th>\n      <th>url</th>\n    </tr>\n  </thead>\n  <tbody>\n    <tr>\n      <th>0</th>\n      <td>https://services.runescape.com-oc.ru/m=weblogi...</td>\n    </tr>\n    <tr>\n      <th>1</th>\n      <td>https://whatsapp-viral.new-bonustx08.gq/</td>\n    </tr>\n    <tr>\n      <th>2</th>\n      <td>https://www.whatsapp-viral.new-bonustx08.gq/</td>\n    </tr>\n    <tr>\n      <th>3</th>\n      <td>https://whatsapp-viral.new-bonustx08.gq/login.php</td>\n    </tr>\n    <tr>\n      <th>4</th>\n      <td>https://www.whatsapp-viral.new-bonustx08.gq/lo...</td>\n    </tr>\n  </tbody>\n</table>\n</div>"
     },
     "execution_count": 35,
     "metadata": {},
     "output_type": "execute_result"
    }
   ],
   "source": [
    "ph4_df = pd.read_csv('original_datasets/phishing_2.txt', header=None, sep='\\t', names=['url'])\n",
    "ph4_df = ph4_df.rename({'0': 'url'})\n",
    "ph4_df.head()"
   ],
   "metadata": {
    "collapsed": false,
    "pycharm": {
     "name": "#%%\n"
    }
   }
  },
  {
   "cell_type": "code",
   "execution_count": 36,
   "outputs": [],
   "source": [
    "ph4_df = ph4_df['url']"
   ],
   "metadata": {
    "collapsed": false,
    "pycharm": {
     "name": "#%%\n"
    }
   }
  },
  {
   "cell_type": "code",
   "execution_count": 37,
   "outputs": [
    {
     "data": {
      "text/plain": "                                                 url\n0          https://youtubergrub.freefire011-bgid.cf/\n1  https://youtubergrub.freefire011-bgid.cf/login...\n2      https://www.youtubergrub.freefire011-bgid.cf/\n3  https://www.youtubergrub.freefire011-bgid.cf/l...\n4  https://www.13-59-181-170.cprapid.com/index.ph...",
      "text/html": "<div>\n<style scoped>\n    .dataframe tbody tr th:only-of-type {\n        vertical-align: middle;\n    }\n\n    .dataframe tbody tr th {\n        vertical-align: top;\n    }\n\n    .dataframe thead th {\n        text-align: right;\n    }\n</style>\n<table border=\"1\" class=\"dataframe\">\n  <thead>\n    <tr style=\"text-align: right;\">\n      <th></th>\n      <th>url</th>\n    </tr>\n  </thead>\n  <tbody>\n    <tr>\n      <th>0</th>\n      <td>https://youtubergrub.freefire011-bgid.cf/</td>\n    </tr>\n    <tr>\n      <th>1</th>\n      <td>https://youtubergrub.freefire011-bgid.cf/login...</td>\n    </tr>\n    <tr>\n      <th>2</th>\n      <td>https://www.youtubergrub.freefire011-bgid.cf/</td>\n    </tr>\n    <tr>\n      <th>3</th>\n      <td>https://www.youtubergrub.freefire011-bgid.cf/l...</td>\n    </tr>\n    <tr>\n      <th>4</th>\n      <td>https://www.13-59-181-170.cprapid.com/index.ph...</td>\n    </tr>\n  </tbody>\n</table>\n</div>"
     },
     "execution_count": 37,
     "metadata": {},
     "output_type": "execute_result"
    }
   ],
   "source": [
    "ph5_df = pd.read_csv('original_datasets/phishing_4.txt', header=None, sep='\\t', names=['url'])\n",
    "ph5_df = ph5_df.rename({'0': 'url'})\n",
    "ph5_df.head()"
   ],
   "metadata": {
    "collapsed": false,
    "pycharm": {
     "name": "#%%\n"
    }
   }
  },
  {
   "cell_type": "code",
   "execution_count": 38,
   "outputs": [],
   "source": [
    "ph5_df = ph5_df['url']"
   ],
   "metadata": {
    "collapsed": false,
    "pycharm": {
     "name": "#%%\n"
    }
   }
  },
  {
   "cell_type": "markdown",
   "source": [
    "Now we use a dataset from a paper where they classified phishing and non-phishing websites"
   ],
   "metadata": {
    "collapsed": false,
    "pycharm": {
     "name": "#%% md\n"
    }
   }
  },
  {
   "cell_type": "code",
   "execution_count": 39,
   "outputs": [
    {
     "data": {
      "text/plain": "   Unnamed: 0                                       url  url_len  \\\n0           0  http://members.tripod.com/russiastation/       40   \n1           1          http://www.ddj.com/cpp/184403822       32   \n2           2                  http://www.naef-usa.com/       24   \n3           3                     http://www.ff-b2b.de/       21   \n4           4       http://us.imdb.com/title/tt0176269/       35   \n\n          ip_add        geo_loc  tld      who_is https  js_len  js_obf_len  \\\n0  42.77.221.155         Taiwan  com    complete   yes    58.0         0.0   \n1  3.211.202.180  United States  com    complete   yes    52.5         0.0   \n2   24.232.54.41      Argentina  com    complete   yes   103.5         0.0   \n3   147.22.38.45  United States   de  incomplete    no   720.0       532.8   \n4  205.30.239.85  United States  com    complete   yes    46.5         0.0   \n\n                                             content label  \n0  Named themselves charged particles in a manly ...  good  \n1  And filipino field \\n \\n \\n \\n \\n \\n \\n \\n the...  good  \n2  Took in cognitivism, whose adherents argue for...  good  \n3  fire cumshot sodomize footaction tortur failed...   bad  \n4  Levant, also monsignor georges. In 1800, lists...  good  ",
      "text/html": "<div>\n<style scoped>\n    .dataframe tbody tr th:only-of-type {\n        vertical-align: middle;\n    }\n\n    .dataframe tbody tr th {\n        vertical-align: top;\n    }\n\n    .dataframe thead th {\n        text-align: right;\n    }\n</style>\n<table border=\"1\" class=\"dataframe\">\n  <thead>\n    <tr style=\"text-align: right;\">\n      <th></th>\n      <th>Unnamed: 0</th>\n      <th>url</th>\n      <th>url_len</th>\n      <th>ip_add</th>\n      <th>geo_loc</th>\n      <th>tld</th>\n      <th>who_is</th>\n      <th>https</th>\n      <th>js_len</th>\n      <th>js_obf_len</th>\n      <th>content</th>\n      <th>label</th>\n    </tr>\n  </thead>\n  <tbody>\n    <tr>\n      <th>0</th>\n      <td>0</td>\n      <td>http://members.tripod.com/russiastation/</td>\n      <td>40</td>\n      <td>42.77.221.155</td>\n      <td>Taiwan</td>\n      <td>com</td>\n      <td>complete</td>\n      <td>yes</td>\n      <td>58.0</td>\n      <td>0.0</td>\n      <td>Named themselves charged particles in a manly ...</td>\n      <td>good</td>\n    </tr>\n    <tr>\n      <th>1</th>\n      <td>1</td>\n      <td>http://www.ddj.com/cpp/184403822</td>\n      <td>32</td>\n      <td>3.211.202.180</td>\n      <td>United States</td>\n      <td>com</td>\n      <td>complete</td>\n      <td>yes</td>\n      <td>52.5</td>\n      <td>0.0</td>\n      <td>And filipino field \\n \\n \\n \\n \\n \\n \\n \\n the...</td>\n      <td>good</td>\n    </tr>\n    <tr>\n      <th>2</th>\n      <td>2</td>\n      <td>http://www.naef-usa.com/</td>\n      <td>24</td>\n      <td>24.232.54.41</td>\n      <td>Argentina</td>\n      <td>com</td>\n      <td>complete</td>\n      <td>yes</td>\n      <td>103.5</td>\n      <td>0.0</td>\n      <td>Took in cognitivism, whose adherents argue for...</td>\n      <td>good</td>\n    </tr>\n    <tr>\n      <th>3</th>\n      <td>3</td>\n      <td>http://www.ff-b2b.de/</td>\n      <td>21</td>\n      <td>147.22.38.45</td>\n      <td>United States</td>\n      <td>de</td>\n      <td>incomplete</td>\n      <td>no</td>\n      <td>720.0</td>\n      <td>532.8</td>\n      <td>fire cumshot sodomize footaction tortur failed...</td>\n      <td>bad</td>\n    </tr>\n    <tr>\n      <th>4</th>\n      <td>4</td>\n      <td>http://us.imdb.com/title/tt0176269/</td>\n      <td>35</td>\n      <td>205.30.239.85</td>\n      <td>United States</td>\n      <td>com</td>\n      <td>complete</td>\n      <td>yes</td>\n      <td>46.5</td>\n      <td>0.0</td>\n      <td>Levant, also monsignor georges. In 1800, lists...</td>\n      <td>good</td>\n    </tr>\n  </tbody>\n</table>\n</div>"
     },
     "execution_count": 39,
     "metadata": {},
     "output_type": "execute_result"
    }
   ],
   "source": [
    "mixed_urls_df = pd.read_csv('original_datasets/Webpages_Classification_train_data.csv')\n",
    "mixed_urls_df.head()"
   ],
   "metadata": {
    "collapsed": false,
    "pycharm": {
     "name": "#%%\n"
    }
   }
  },
  {
   "cell_type": "code",
   "execution_count": 40,
   "outputs": [],
   "source": [
    "# choose only the \"bad\" urls (the phishing urls)\n",
    "bad_urls_df = mixed_urls_df[mixed_urls_df['label']==\"bad\"]\n",
    "bad_urls_df = bad_urls_df['url']  # keep only the url column"
   ],
   "metadata": {
    "collapsed": false,
    "pycharm": {
     "name": "#%%\n"
    }
   }
  },
  {
   "cell_type": "code",
   "execution_count": 41,
   "outputs": [
    {
     "data": {
      "text/plain": "78029"
     },
     "execution_count": 41,
     "metadata": {},
     "output_type": "execute_result"
    }
   ],
   "source": [
    "# Concat all the urls\n",
    "phishing_df = pd.concat([ph3_df, ph4_df, ph5_df, ph1_df, ph2_df, apr_df, march_df, bad_urls_df]).reset_index(drop=True)\n",
    "len(phishing_df)"
   ],
   "metadata": {
    "collapsed": false,
    "pycharm": {
     "name": "#%%\n"
    }
   }
  },
  {
   "cell_type": "code",
   "execution_count": 42,
   "outputs": [
    {
     "data": {
      "text/plain": "46762"
     },
     "execution_count": 42,
     "metadata": {},
     "output_type": "execute_result"
    }
   ],
   "source": [
    "phishing_df = phishing_df.drop_duplicates()\n",
    "len(phishing_df)"
   ],
   "metadata": {
    "collapsed": false,
    "pycharm": {
     "name": "#%%\n"
    }
   }
  },
  {
   "cell_type": "markdown",
   "source": [
    "After removing duplicates, we end up with the following series:"
   ],
   "metadata": {
    "collapsed": false,
    "pycharm": {
     "name": "#%% md\n"
    }
   }
  },
  {
   "cell_type": "code",
   "execution_count": 43,
   "outputs": [],
   "source": [
    "phishing_df.head(20)\n",
    "phishing_df.to_csv(\"../phishing.csv\")"
   ],
   "metadata": {
    "collapsed": false,
    "pycharm": {
     "name": "#%%\n"
    }
   }
  },
  {
   "cell_type": "code",
   "execution_count": 44,
   "outputs": [
    {
     "name": "stdout",
     "output_type": "stream",
     "text": [
      "HTTPSConnectionPool(host='youtubergrub.freefire011-bgid.cf', port=443): Max retries exceeded with url: / (Caused by NewConnectionError('<urllib3.connection.HTTPSConnection object at 0x1352e8640>: Failed to establish a new connection: [Errno 8] nodename nor servname provided, or not known'))\n",
      "HTTPSConnectionPool(host='youtubergrub.freefire011-bgid.cf', port=443): Max retries exceeded with url: /login.php (Caused by NewConnectionError('<urllib3.connection.HTTPSConnection object at 0x1352e89d0>: Failed to establish a new connection: [Errno 8] nodename nor servname provided, or not known'))\n",
      "HTTPSConnectionPool(host='www.youtubergrub.freefire011-bgid.cf', port=443): Max retries exceeded with url: / (Caused by NewConnectionError('<urllib3.connection.HTTPSConnection object at 0x1352e8e80>: Failed to establish a new connection: [Errno 8] nodename nor servname provided, or not known'))\n",
      "HTTPSConnectionPool(host='www.youtubergrub.freefire011-bgid.cf', port=443): Max retries exceeded with url: /login.php (Caused by NewConnectionError('<urllib3.connection.HTTPSConnection object at 0x1352e8eb0>: Failed to establish a new connection: [Errno 8] nodename nor servname provided, or not known'))\n",
      "HTTPSConnectionPool(host='www.13-59-181-170.cprapid.com', port=443): Max retries exceeded with url: /index.php/false/false/py1n.html/discovercard.com/dfs/accounthome/summary/www.schwab.com (Caused by ConnectTimeoutError(<urllib3.connection.HTTPSConnection object at 0x1352e8d60>, 'Connection to www.13-59-181-170.cprapid.com timed out. (connect timeout=7)'))\n",
      "HTTPSConnectionPool(host='joingroubwhatsapp.bkpgrup.com', port=443): Max retries exceeded with url: / (Caused by NewConnectionError('<urllib3.connection.HTTPSConnection object at 0x1366df4c0>: Failed to establish a new connection: [Errno 8] nodename nor servname provided, or not known'))\n",
      "HTTPSConnectionPool(host='www.13-59-181-170.cprapid.com', port=443): Max retries exceeded with url: /index.php/false/false/false/false/false/oegw.ht (Caused by ConnectTimeoutError(<urllib3.connection.HTTPSConnection object at 0x1366df700>, 'Connection to www.13-59-181-170.cprapid.com timed out. (connect timeout=7)'))\n",
      "HTTPSConnectionPool(host='byhiss789i.monster', port=443): Max retries exceeded with url: /37775f4b4beea9dd6a70d5911b86c28f/index1.php?cmd=login_submit&id=db5722573c8efc26527e7202df827ab3db5722573c8efc26527e7202df827ab3&session=db5722573c8efc26527e7202df827ab3db5722573c8efc26527e7202df827ab3 (Caused by NewConnectionError('<urllib3.connection.HTTPSConnection object at 0x13545b430>: Failed to establish a new connection: [Errno 8] nodename nor servname provided, or not known'))\n",
      "HTTPSConnectionPool(host='www.13-59-181-170.cprapid.com', port=443): Max retries exceeded with url: /index.php/false/py1n.html/discovercard.com/dfs/accounthome/summary/-www.schwab.com/secure.accurint.com/unfcu2.org/login1/wachovia.com/myaccounts.aspx/investing.schwab.com/secure/schwab/https:/step1.html (Caused by ConnectTimeoutError(<urllib3.connection.HTTPSConnection object at 0x13545b2e0>, 'Connection to www.13-59-181-170.cprapid.com timed out. (connect timeout=7)'))\n",
      "HTTPSConnectionPool(host='byhiss789i.monster', port=443): Max retries exceeded with url: /768d196e0af2db8ecbb33869700d921e/index1.php?cmd= (Caused by NewConnectionError('<urllib3.connection.HTTPSConnection object at 0x1361fd670>: Failed to establish a new connection: [Errno 8] nodename nor servname provided, or not known'))\n",
      "HTTPSConnectionPool(host='byhiss789i.monster', port=443): Max retries exceeded with url: /768d196e0af2db8ecbb33869700d921e/index1.php?cmd=login_submit&id=205f1f55d3ce59d65d62953791074647205f1f55d3ce59d65d62953791074647&session=205f1f55d3ce59d65d62953791074647205f1f55d3ce59d65d62953791074647 (Caused by NewConnectionError('<urllib3.connection.HTTPSConnection object at 0x1361fd0d0>: Failed to establish a new connection: [Errno 8] nodename nor servname provided, or not known'))\n",
      "HTTPSConnectionPool(host='byhiss789i.monster', port=443): Max retries exceeded with url: /9747d53f0991aef0ac2a5c899a9fb27c/index1.php?cmd=login_submit&id=8f75bacc5461c76732d53e444e46a8158f75bacc5461c76732d53e444e46a815&session=8f75bacc5461c76732d53e444e46a8158f75bacc5461c76732d53e444e46a815 (Caused by NewConnectionError('<urllib3.connection.HTTPSConnection object at 0x1361fd580>: Failed to establish a new connection: [Errno 8] nodename nor servname provided, or not known'))\n",
      "HTTPSConnectionPool(host='byhiss789i.monster', port=443): Max retries exceeded with url: /37775f4b4beea9dd6a70d5911b86c28f (Caused by NewConnectionError('<urllib3.connection.HTTPSConnection object at 0x1361fd790>: Failed to establish a new connection: [Errno 8] nodename nor servname provided, or not known'))\n",
      "HTTPSConnectionPool(host='byhiss789i.monster', port=443): Max retries exceeded with url: /9747d53f0991aef0ac2a5c899a9fb27c/ (Caused by NewConnectionError('<urllib3.connection.HTTPSConnection object at 0x1361fd070>: Failed to establish a new connection: [Errno 8] nodename nor servname provided, or not known'))\n",
      "HTTPSConnectionPool(host='byhiss789i.monster', port=443): Max retries exceeded with url: /9747d53f0991aef0ac2a5c899a9fb27c (Caused by NewConnectionError('<urllib3.connection.HTTPSConnection object at 0x1361fd700>: Failed to establish a new connection: [Errno 8] nodename nor servname provided, or not known'))\n",
      "HTTPSConnectionPool(host='byhiss789i.monster', port=443): Max retries exceeded with url: /37775f4b4beea9dd6a70d5911b86c28f/ (Caused by NewConnectionError('<urllib3.connection.HTTPSConnection object at 0x1361fd370>: Failed to establish a new connection: [Errno 8] nodename nor servname provided, or not known'))\n",
      "HTTPSConnectionPool(host='whatsapp-group.servehttp.com', port=443): Max retries exceeded with url: / (Caused by NewConnectionError('<urllib3.connection.HTTPSConnection object at 0x1361fd850>: Failed to establish a new connection: [Errno 61] Connection refused'))\n",
      "HTTPSConnectionPool(host='www.joingroubwhatsapp.bkpgrup.com', port=443): Max retries exceeded with url: / (Caused by NewConnectionError('<urllib3.connection.HTTPSConnection object at 0x135489fd0>: Failed to establish a new connection: [Errno 8] nodename nor servname provided, or not known'))\n",
      "HTTPSConnectionPool(host='byhiss789i.monster', port=443): Max retries exceeded with url: /768d196e0af2db8ecbb33869700d921e/index2.php?erro= (Caused by NewConnectionError('<urllib3.connection.HTTPSConnection object at 0x135489d00>: Failed to establish a new connection: [Errno 8] nodename nor servname provided, or not known'))\n",
      "HTTPSConnectionPool(host='facebook.fiam.in', port=443): Max retries exceeded with url: / (Caused by NewConnectionError('<urllib3.connection.HTTPSConnection object at 0x135489880>: Failed to establish a new connection: [Errno 8] nodename nor servname provided, or not known'))\n",
      "HTTPSConnectionPool(host='www.facebook.fiam.in', port=443): Max retries exceeded with url: / (Caused by NewConnectionError('<urllib3.connection.HTTPSConnection object at 0x135489910>: Failed to establish a new connection: [Errno 8] nodename nor servname provided, or not known'))\n",
      "HTTPSConnectionPool(host='whstappgroupinvitt.zzux.com', port=443): Max retries exceeded with url: / (Caused by NewConnectionError('<urllib3.connection.HTTPSConnection object at 0x135489ee0>: Failed to establish a new connection: [Errno 8] nodename nor servname provided, or not known'))\n",
      "HTTPSConnectionPool(host='monespacesecuri.serveirc.com', port=443): Max retries exceeded with url: /authen/629aa8429dab267/region.php?particulier (Caused by NewConnectionError('<urllib3.connection.HTTPSConnection object at 0x135489940>: Failed to establish a new connection: [Errno 61] Connection refused'))\n",
      "503\n",
      "HTTPConnectionPool(host='cd60171.tmweb.ru', port=80): Max retries exceeded with url: /authentification_banque.postale/ (Caused by NewConnectionError('<urllib3.connection.HTTPConnection object at 0x1361fd670>: Failed to establish a new connection: [Errno 8] nodename nor servname provided, or not known'))\n",
      "403\n",
      "404\n",
      "404\n",
      "HTTPSConnectionPool(host='www2.cr.mufg.jp.gfgfde.com', port=443): Max retries exceeded with url: /pc/MUFG_pcselectcard.html (Caused by NewConnectionError('<urllib3.connection.HTTPSConnection object at 0x1361fdac0>: Failed to establish a new connection: [Errno 8] nodename nor servname provided, or not known'))\n",
      "HTTPSConnectionPool(host='cr.mufg.jp.gfgfde.com', port=443): Max retries exceeded with url: /pc/MUFG_pcselectcard.html (Caused by NewConnectionError('<urllib3.connection.HTTPSConnection object at 0x135489a60>: Failed to establish a new connection: [Errno 8] nodename nor servname provided, or not known'))\n",
      "HTTPConnectionPool(host='vod.reliableiptv.com', port=80): Max retries exceeded with url: /images/spl_schedules/e601207157bc122d84c81a2289fd8dfd/index.php?ebd59fb73dc3f5edec9d6862dc7ff20c?dispatch=4lDWCzL6PxAxDMW5UmmQxh2ImRl35h6aDJ6fjRm8pWF2IC8DZu (Caused by NewConnectionError('<urllib3.connection.HTTPConnection object at 0x135489070>: Failed to establish a new connection: [Errno 8] nodename nor servname provided, or not known'))\n",
      "HTTPConnectionPool(host='vod.reliableiptv.com', port=80): Max retries exceeded with url: /images/spl_schedules/d14584d9496407e54161c79d8eeee76a/index.php?5670a2f03e0ecc59176148adecee2bd5?dispatch=0C2qqc2YUP5M0v8zUMeRA9ww4U8c2TX2vZtVbvU5k0Rlv0UpN8 (Caused by NewConnectionError('<urllib3.connection.HTTPConnection object at 0x13545b4c0>: Failed to establish a new connection: [Errno 8] nodename nor servname provided, or not known'))\n",
      "HTTPSConnectionPool(host='facebookcopyrightabout.ml', port=443): Max retries exceeded with url: / (Caused by NewConnectionError('<urllib3.connection.HTTPSConnection object at 0x13545b0a0>: Failed to establish a new connection: [Errno 8] nodename nor servname provided, or not known'))\n",
      "HTTPSConnectionPool(host='www.13-59-181-170.cprapid.com', port=443): Max retries exceeded with url: /index.php/false/py1n.html (Caused by ConnectTimeoutError(<urllib3.connection.HTTPSConnection object at 0x13545bc40>, 'Connection to www.13-59-181-170.cprapid.com timed out. (connect timeout=7)'))\n",
      "HTTPSConnectionPool(host='www.13-59-181-170.cprapid.com', port=443): Max retries exceeded with url: /index.php/false/false/py1n.html/discovercard.com/dfs/accounthome/summary (Caused by ConnectTimeoutError(<urllib3.connection.HTTPSConnection object at 0x1354cc550>, 'Connection to www.13-59-181-170.cprapid.com timed out. (connect timeout=7)'))\n",
      "HTTPSConnectionPool(host='www.13-59-181-170.cprapid.com', port=443): Max retries exceeded with url: /index.php/false/py1n.html/discovercard.com/dfs/accounthome/summary/-www.schwab.com (Caused by ConnectTimeoutError(<urllib3.connection.HTTPSConnection object at 0x1366351c0>, 'Connection to www.13-59-181-170.cprapid.com timed out. (connect timeout=7)'))\n",
      "HTTPSConnectionPool(host='www.13-59-181-170.cprapid.com', port=443): Max retries exceeded with url: /index.php/false/false/py1n.html/discovercard.com/dfs/accounthome/summary/www.schwab.com, (Caused by ConnectTimeoutError(<urllib3.connection.HTTPSConnection object at 0x1366e74f0>, 'Connection to www.13-59-181-170.cprapid.com timed out. (connect timeout=7)'))\n",
      "404\n",
      "HTTPSConnectionPool(host='royalmail.onhold-package.com', port=443): Max retries exceeded with url: / (Caused by NewConnectionError('<urllib3.connection.HTTPSConnection object at 0x134fb1f70>: Failed to establish a new connection: [Errno 8] nodename nor servname provided, or not known'))\n",
      "403\n",
      "503\n",
      "HTTPSConnectionPool(host='www.joingrups.khutyi-wvent62.gq', port=443): Max retries exceeded with url: / (Caused by NewConnectionError('<urllib3.connection.HTTPSConnection object at 0x135489c70>: Failed to establish a new connection: [Errno 8] nodename nor servname provided, or not known'))\n",
      "HTTPSConnectionPool(host='joingrups.khutyi-wvent62.gq', port=443): Max retries exceeded with url: / (Caused by NewConnectionError('<urllib3.connection.HTTPSConnection object at 0x134fb1250>: Failed to establish a new connection: [Errno 8] nodename nor servname provided, or not known'))\n",
      "HTTPSConnectionPool(host='www.grucbokedindo.jtrill--xyz.ga', port=443): Max retries exceeded with url: / (Caused by NewConnectionError('<urllib3.connection.HTTPSConnection object at 0x135489970>: Failed to establish a new connection: [Errno 8] nodename nor servname provided, or not known'))\n",
      "HTTPSConnectionPool(host='grucbokedindo.jtrill--xyz.ga', port=443): Max retries exceeded with url: / (Caused by NewConnectionError('<urllib3.connection.HTTPSConnection object at 0x134fb1f40>: Failed to establish a new connection: [Errno 8] nodename nor servname provided, or not known'))\n",
      "HTTPSConnectionPool(host='mee-ralbead.com', port=443): Max retries exceeded with url: /Chase/a066cf03da6e95a7e6f545db9e9186ec/ (Caused by NewConnectionError('<urllib3.connection.HTTPSConnection object at 0x135489580>: Failed to establish a new connection: [Errno 8] nodename nor servname provided, or not known'))\n",
      "HTTPSConnectionPool(host='byhiss789i.monster', port=443): Max retries exceeded with url: /3cbd48b8f15101c2c657def93de6d0c6/index1.php?cmd=login_submit&id=55ca657ac866d7ee7e7a24b5f4fd5a5b55ca657ac866d7ee7e7a24b5f4fd5a5b&session=55ca657ac866d7ee7e7a24b5f4fd5a5b55ca657ac866d7ee7e7a24b5f4fd5a5b (Caused by NewConnectionError('<urllib3.connection.HTTPSConnection object at 0x134fb1f40>: Failed to establish a new connection: [Errno 8] nodename nor servname provided, or not known'))\n",
      "HTTPSConnectionPool(host='byhiss789i.monster', port=443): Max retries exceeded with url: /3cbd48b8f15101c2c657def93de6d0c6/ (Caused by NewConnectionError('<urllib3.connection.HTTPSConnection object at 0x135489700>: Failed to establish a new connection: [Errno 8] nodename nor servname provided, or not known'))\n",
      "200\n",
      "200\n",
      "200\n",
      "HTTPConnectionPool(host='grupxsex19.myq-see.com', port=80): Max retries exceeded with url: /login.php (Caused by NewConnectionError('<urllib3.connection.HTTPConnection object at 0x134fb1e20>: Failed to establish a new connection: [Errno 8] nodename nor servname provided, or not known'))\n",
      "403\n",
      "HTTPSConnectionPool(host='codashoopeventfredm.ga', port=443): Max retries exceeded with url: / (Caused by NewConnectionError('<urllib3.connection.HTTPSConnection object at 0x1366e7af0>: Failed to establish a new connection: [Errno 8] nodename nor servname provided, or not known'))\n",
      "403\n",
      "HTTPSConnectionPool(host='afse.z19.web.core.windows.net', port=443): Max retries exceeded with url: / (Caused by NewConnectionError('<urllib3.connection.HTTPSConnection object at 0x134fb1430>: Failed to establish a new connection: [Errno 8] nodename nor servname provided, or not known'))\n",
      "200\n",
      "HTTPSConnectionPool(host='rmail-redirect-parcel.com', port=443): Max retries exceeded with url: / (Caused by NewConnectionError('<urllib3.connection.HTTPSConnection object at 0x13548bd30>: Failed to establish a new connection: [Errno 8] nodename nor servname provided, or not known'))\n",
      "HTTPSConnectionPool(host='copyrightforhelping.ml', port=443): Max retries exceeded with url: / (Caused by NewConnectionError('<urllib3.connection.HTTPSConnection object at 0x13548bd30>: Failed to establish a new connection: [Errno 8] nodename nor servname provided, or not known'))\n",
      "HTTPSConnectionPool(host='revokeunauthenticpayee.com', port=443): Max retries exceeded with url: /lloyds/Login.php (Caused by NewConnectionError('<urllib3.connection.HTTPSConnection object at 0x13548bd30>: Failed to establish a new connection: [Errno 8] nodename nor servname provided, or not known'))\n",
      "HTTPSConnectionPool(host='dns-ssl.com', port=443): Max retries exceeded with url: / (Caused by NewConnectionError('<urllib3.connection.HTTPSConnection object at 0x13548bd30>: Failed to establish a new connection: [Errno 8] nodename nor servname provided, or not known'))\n",
      "HTTPSConnectionPool(host='revoke-unauthentic-payee.com', port=443): Max retries exceeded with url: /lloyds/Login.php (Caused by NewConnectionError('<urllib3.connection.HTTPSConnection object at 0x13548bd30>: Failed to establish a new connection: [Errno 8] nodename nor servname provided, or not known'))\n",
      "HTTPSConnectionPool(host='www.mobile-legandpaang11.xyz', port=443): Max retries exceeded with url: / (Caused by NewConnectionError('<urllib3.connection.HTTPSConnection object at 0x13548bd30>: Failed to establish a new connection: [Errno 8] nodename nor servname provided, or not known'))\n",
      "200\n",
      "HTTPConnectionPool(host='pubgmobileanniv.cf', port=80): Max retries exceeded with url: / (Caused by NewConnectionError('<urllib3.connection.HTTPConnection object at 0x1366e71f0>: Failed to establish a new connection: [Errno 8] nodename nor servname provided, or not known'))\n",
      "200\n",
      "HTTPConnectionPool(host='riscontro-app-isp.com', port=80): Max retries exceeded with url: / (Caused by NewConnectionError('<urllib3.connection.HTTPConnection object at 0x13548b220>: Failed to establish a new connection: [Errno 8] nodename nor servname provided, or not known'))\n",
      "HTTPConnectionPool(host='rm-shipping-cost.delivery', port=80): Max retries exceeded with url: / (Caused by NewConnectionError('<urllib3.connection.HTTPConnection object at 0x13548b1f0>: Failed to establish a new connection: [Errno 8] nodename nor servname provided, or not known'))\n",
      "500\n",
      "403\n",
      "HTTPSConnectionPool(host='parceldespatch-fees.com', port=443): Max retries exceeded with url: /user.php?securessl=true&sessionid=8fd3b08878c1978f537f42f604b4828f (Caused by NewConnectionError('<urllib3.connection.HTTPSConnection object at 0x13548b4f0>: Failed to establish a new connection: [Errno 8] nodename nor servname provided, or not known'))\n",
      "HTTPSConnectionPool(host='parceldespatch-fees.com', port=443): Max retries exceeded with url: /loading.php?&sessionid=$hash&securessl=true (Caused by NewConnectionError('<urllib3.connection.HTTPSConnection object at 0x13548b9d0>: Failed to establish a new connection: [Errno 8] nodename nor servname provided, or not known'))\n",
      "HTTPSConnectionPool(host='parceldespatch-fees.com', port=443): Max retries exceeded with url: /verifylogin.php?&sessionid=$hash&securessl=true (Caused by NewConnectionError('<urllib3.connection.HTTPSConnection object at 0x13548b2e0>: Failed to establish a new connection: [Errno 8] nodename nor servname provided, or not known'))\n",
      "HTTPSConnectionPool(host='parceldespatch-fees.com', port=443): Max retries exceeded with url: /secure.php?&sessionid=$hash&securessl=true (Caused by NewConnectionError('<urllib3.connection.HTTPSConnection object at 0x13548b2e0>: Failed to establish a new connection: [Errno 8] nodename nor servname provided, or not known'))\n",
      "200\n",
      "HTTPConnectionPool(host='rmpayment.co.uk', port=80): Max retries exceeded with url: / (Caused by NewConnectionError('<urllib3.connection.HTTPConnection object at 0x13548b160>: Failed to establish a new connection: [Errno 8] nodename nor servname provided, or not known'))\n",
      "406\n",
      "HTTPSConnectionPool(host='www.codashop-dm.claimz-65.ga', port=443): Max retries exceeded with url: / (Caused by NewConnectionError('<urllib3.connection.HTTPSConnection object at 0x13548b0d0>: Failed to establish a new connection: [Errno 8] nodename nor servname provided, or not known'))\n",
      "404\n",
      "HTTPSConnectionPool(host='verifikasifb.now-212.gq', port=443): Max retries exceeded with url: / (Caused by NewConnectionError('<urllib3.connection.HTTPSConnection object at 0x13548bcd0>: Failed to establish a new connection: [Errno 8] nodename nor servname provided, or not known'))\n",
      "HTTPConnectionPool(host='pubgmobileanniv.gq', port=80): Max retries exceeded with url: / (Caused by NewConnectionError('<urllib3.connection.HTTPConnection object at 0x13548b9d0>: Failed to establish a new connection: [Errno 8] nodename nor servname provided, or not known'))\n",
      "HTTPSConnectionPool(host='verifikasifb.now-212.ga', port=443): Max retries exceeded with url: / (Caused by NewConnectionError('<urllib3.connection.HTTPSConnection object at 0x13548b9d0>: Failed to establish a new connection: [Errno 8] nodename nor servname provided, or not known'))\n",
      "HTTPSConnectionPool(host='www.verifikasifb.now-212.gq', port=443): Max retries exceeded with url: / (Caused by NewConnectionError('<urllib3.connection.HTTPSConnection object at 0x13548b7f0>: Failed to establish a new connection: [Errno 8] nodename nor servname provided, or not known'))\n",
      "HTTPSConnectionPool(host='instagram-verifiedbadge-form.ml', port=443): Max retries exceeded with url: / (Caused by NewConnectionError('<urllib3.connection.HTTPSConnection object at 0x13548b7f0>: Failed to establish a new connection: [Errno 8] nodename nor servname provided, or not known'))\n",
      "404\n",
      "HTTPSConnectionPool(host='claim-itemold1.ml', port=443): Max retries exceeded with url: / (Caused by NewConnectionError('<urllib3.connection.HTTPSConnection object at 0x13548bd90>: Failed to establish a new connection: [Errno 8] nodename nor servname provided, or not known'))\n",
      "200\n",
      "200\n",
      "404\n",
      "HTTPConnectionPool(host='grupxsex7.myq-see.com', port=80): Max retries exceeded with url: / (Caused by NewConnectionError('<urllib3.connection.HTTPConnection object at 0x13548bd30>: Failed to establish a new connection: [Errno 8] nodename nor servname provided, or not known'))\n",
      "HTTPConnectionPool(host='yiooy.tk', port=80): Max retries exceeded with url: /mail1.php (Caused by NewConnectionError('<urllib3.connection.HTTPConnection object at 0x13548b6d0>: Failed to establish a new connection: [Errno 8] nodename nor servname provided, or not known'))\n",
      "200\n",
      "HTTPConnectionPool(host='login-bancoestado-personas.gq', port=80): Max retries exceeded with url: / (Caused by NewConnectionError('<urllib3.connection.HTTPConnection object at 0x13548b190>: Failed to establish a new connection: [Errno 8] nodename nor servname provided, or not known'))\n",
      "404\n",
      "404\n",
      "404\n",
      "404\n",
      "HTTPConnectionPool(host='roya1-ma1l-delivery.com', port=80): Max retries exceeded with url: / (Caused by NewConnectionError('<urllib3.connection.HTTPConnection object at 0x13548b580>: Failed to establish a new connection: [Errno 8] nodename nor servname provided, or not known'))\n",
      "HTTPConnectionPool(host='isp-banking-anomalia.com', port=80): Max retries exceeded with url: / (Caused by NewConnectionError('<urllib3.connection.HTTPConnection object at 0x13548ba30>: Failed to establish a new connection: [Errno 8] nodename nor servname provided, or not known'))\n",
      "403\n",
      "403\n",
      "200\n",
      "HTTPSConnectionPool(host='team-acc.cf', port=443): Max retries exceeded with url: /bj/fb2021/Facebook.html (Caused by NewConnectionError('<urllib3.connection.HTTPSConnection object at 0x13548b160>: Failed to establish a new connection: [Errno 8] nodename nor servname provided, or not known'))\n",
      "200\n",
      "403\n",
      "HTTPSConnectionPool(host='gruf.memmek.gq', port=443): Max retries exceeded with url: / (Caused by NewConnectionError('<urllib3.connection.HTTPSConnection object at 0x13548be20>: Failed to establish a new connection: [Errno 8] nodename nor servname provided, or not known'))\n",
      "HTTPSConnectionPool(host='www.gruf.memmek.gq', port=443): Max retries exceeded with url: / (Caused by NewConnectionError('<urllib3.connection.HTTPSConnection object at 0x13548b310>: Failed to establish a new connection: [Errno 8] nodename nor servname provided, or not known'))\n",
      "HTTPSConnectionPool(host='www.chat.whatsappppp.cf', port=443): Max retries exceeded with url: / (Caused by NewConnectionError('<urllib3.connection.HTTPSConnection object at 0x13548b2b0>: Failed to establish a new connection: [Errno 8] nodename nor servname provided, or not known'))\n",
      "HTTPSConnectionPool(host='byhiss789i.monster', port=443): Max retries exceeded with url: /c4800e57812355e753571d841552ecbf (Caused by NewConnectionError('<urllib3.connection.HTTPSConnection object at 0x13548b160>: Failed to establish a new connection: [Errno 8] nodename nor servname provided, or not known'))\n",
      "HTTPSConnectionPool(host='byhiss789i.monster', port=443): Max retries exceeded with url: /c4800e57812355e753571d841552ecbf/ (Caused by NewConnectionError('<urllib3.connection.HTTPSConnection object at 0x13548b220>: Failed to establish a new connection: [Errno 8] nodename nor servname provided, or not known'))\n",
      "HTTPSConnectionPool(host='byhiss789i.monster', port=443): Max retries exceeded with url: /c4800e57812355e753571d841552ecbf/index1.php?cmd=login_submit&id=0d66a9d4c2da8a4d347af09a19489d390d66a9d4c2da8a4d347af09a19489d39&session=0d66a9d4c2da8a4d347af09a19489d390d66a9d4c2da8a4d347af09a19489d39 (Caused by NewConnectionError('<urllib3.connection.HTTPSConnection object at 0x13548bcd0>: Failed to establish a new connection: [Errno 8] nodename nor servname provided, or not known'))\n",
      "HTTPSConnectionPool(host='byhiss789i.monster', port=443): Max retries exceeded with url: /c4800e57812355e753571d841552ecbf/index1.php?cmd=login_submit&id=0f73d18487cfd289d925ef357009a9010f73d18487cfd289d925ef357009a901&session=0f73d18487cfd289d925ef357009a9010f73d18487cfd289d925ef357009a901 (Caused by NewConnectionError('<urllib3.connection.HTTPSConnection object at 0x13548be20>: Failed to establish a new connection: [Errno 8] nodename nor servname provided, or not known'))\n",
      "200\n",
      "HTTPConnectionPool(host='chat.gruoppppp.eventsnew110.cf', port=80): Max retries exceeded with url: / (Caused by NewConnectionError('<urllib3.connection.HTTPConnection object at 0x13548bdf0>: Failed to establish a new connection: [Errno 8] nodename nor servname provided, or not known'))\n",
      "HTTPSConnectionPool(host='payee-stop.co.uk', port=443): Max retries exceeded with url: /Login.php (Caused by NewConnectionError('<urllib3.connection.HTTPSConnection object at 0x13548b070>: Failed to establish a new connection: [Errno 8] nodename nor servname provided, or not known'))\n",
      "HTTPSConnectionPool(host='parcels-update.services', port=443): Max retries exceeded with url: /RoyalMail/user.php?&sessionid=f01f18eaec89816094bc3868f662d236&securessl=true (Caused by NewConnectionError('<urllib3.connection.HTTPSConnection object at 0x13548b9d0>: Failed to establish a new connection: [Errno 8] nodename nor servname provided, or not known'))\n",
      "HTTPSConnectionPool(host='parcels-update.services', port=443): Max retries exceeded with url: /RoyalMail/loading.php?&sessionid=$hash&securessl=true (Caused by NewConnectionError('<urllib3.connection.HTTPSConnection object at 0x13548bca0>: Failed to establish a new connection: [Errno 8] nodename nor servname provided, or not known'))\n",
      "HTTPSConnectionPool(host='parcels-update.services', port=443): Max retries exceeded with url: /RoyalMail/verifylogin.php?&sessionid=$hash&securessl=true (Caused by NewConnectionError('<urllib3.connection.HTTPSConnection object at 0x13548b7c0>: Failed to establish a new connection: [Errno 8] nodename nor servname provided, or not known'))\n",
      "HTTPSConnectionPool(host='parcels-update.services', port=443): Max retries exceeded with url: /RoyalMail/secure.php?&sessionid=$hash&securessl=true (Caused by NewConnectionError('<urllib3.connection.HTTPSConnection object at 0x13548b490>: Failed to establish a new connection: [Errno 8] nodename nor servname provided, or not known'))\n",
      "HTTPSConnectionPool(host='a6-amazon.work', port=443): Max retries exceeded with url: /amazon/tb.php?_t=1616635191 (Caused by NewConnectionError('<urllib3.connection.HTTPSConnection object at 0x13548b9d0>: Failed to establish a new connection: [Errno 8] nodename nor servname provided, or not known'))\n",
      "404\n",
      "HTTPSConnectionPool(host='new-recipient-failure.org', port=443): Max retries exceeded with url: /Login.php (Caused by NewConnectionError('<urllib3.connection.HTTPSConnection object at 0x13548b190>: Failed to establish a new connection: [Errno 8] nodename nor servname provided, or not known'))\n",
      "HTTPSConnectionPool(host='new-recipient-failure.org', port=443): Max retries exceeded with url: / (Caused by NewConnectionError('<urllib3.connection.HTTPSConnection object at 0x13548b2b0>: Failed to establish a new connection: [Errno 8] nodename nor servname provided, or not known'))\n",
      "404\n",
      "HTTPSConnectionPool(host='chat.whatsappppp.cf', port=443): Max retries exceeded with url: / (Caused by NewConnectionError('<urllib3.connection.HTTPSConnection object at 0x13548b2e0>: Failed to establish a new connection: [Errno 8] nodename nor servname provided, or not known'))\n",
      "404\n",
      "404\n",
      "404\n",
      "404\n",
      "HTTPSConnectionPool(host='gfgfde.tokyo', port=443): Max retries exceeded with url: /pc/MUFG_pcselectcard.html (Caused by NewConnectionError('<urllib3.connection.HTTPSConnection object at 0x13548b070>: Failed to establish a new connection: [Errno 8] nodename nor servname provided, or not known'))\n",
      "HTTPSConnectionPool(host='www2.cr.mufg.jp.gfgfde.tokyo', port=443): Max retries exceeded with url: /pc/MUFG_pcselectcard.html (Caused by NewConnectionError('<urllib3.connection.HTTPSConnection object at 0x13548bdf0>: Failed to establish a new connection: [Errno 8] nodename nor servname provided, or not known'))\n",
      "HTTPSConnectionPool(host='polarizadostoros.com', port=443): Max retries exceeded with url: / (Caused by NewConnectionError('<urllib3.connection.HTTPSConnection object at 0x13548bfd0>: Failed to establish a new connection: [Errno 8] nodename nor servname provided, or not known'))\n",
      "HTTPSConnectionPool(host='cr.mufg.jp.gfgfde.tokyo', port=443): Max retries exceeded with url: /pc/MUFG_pcselectcard.html (Caused by NewConnectionError('<urllib3.connection.HTTPSConnection object at 0x13548bc40>: Failed to establish a new connection: [Errno 8] nodename nor servname provided, or not known'))\n"
     ]
    },
    {
     "name": "stderr",
     "output_type": "stream",
     "text": [
      "/Users/tomasortega/Desktop/PCS_project/venv/lib/python3.9/site-packages/urllib3/connectionpool.py:1013: InsecureRequestWarning: Unverified HTTPS request is being made to host 'identificatieleden.zap709529-1.plesk13.zap-webspace.com'. Adding certificate verification is strongly advised. See: https://urllib3.readthedocs.io/en/latest/advanced-usage.html#ssl-warnings\n",
      "  warnings.warn(\n",
      "/Users/tomasortega/Desktop/PCS_project/venv/lib/python3.9/site-packages/urllib3/connectionpool.py:1013: InsecureRequestWarning: Unverified HTTPS request is being made to host 'bot-dream-5e474ed6.s3.us-east-2.amazonaws.com'. Adding certificate verification is strongly advised. See: https://urllib3.readthedocs.io/en/latest/advanced-usage.html#ssl-warnings\n",
      "  warnings.warn(\n",
      "/Users/tomasortega/Desktop/PCS_project/venv/lib/python3.9/site-packages/urllib3/connectionpool.py:1013: InsecureRequestWarning: Unverified HTTPS request is being made to host 'hepwebdesk.weebly.com'. Adding certificate verification is strongly advised. See: https://urllib3.readthedocs.io/en/latest/advanced-usage.html#ssl-warnings\n",
      "  warnings.warn(\n",
      "/Users/tomasortega/Desktop/PCS_project/venv/lib/python3.9/site-packages/urllib3/connectionpool.py:1013: InsecureRequestWarning: Unverified HTTPS request is being made to host '770agreementmail.weebly.com'. Adding certificate verification is strongly advised. See: https://urllib3.readthedocs.io/en/latest/advanced-usage.html#ssl-warnings\n",
      "  warnings.warn(\n",
      "/Users/tomasortega/Desktop/PCS_project/venv/lib/python3.9/site-packages/urllib3/connectionpool.py:1013: InsecureRequestWarning: Unverified HTTPS request is being made to host 'effghana.org'. Adding certificate verification is strongly advised. See: https://urllib3.readthedocs.io/en/latest/advanced-usage.html#ssl-warnings\n",
      "  warnings.warn(\n",
      "/Users/tomasortega/Desktop/PCS_project/venv/lib/python3.9/site-packages/urllib3/connectionpool.py:1013: InsecureRequestWarning: Unverified HTTPS request is being made to host 'f000.backblazeb2.com'. Adding certificate verification is strongly advised. See: https://urllib3.readthedocs.io/en/latest/advanced-usage.html#ssl-warnings\n",
      "  warnings.warn(\n",
      "/Users/tomasortega/Desktop/PCS_project/venv/lib/python3.9/site-packages/urllib3/connectionpool.py:1013: InsecureRequestWarning: Unverified HTTPS request is being made to host 'zap709923-1.plesk12.zap-webspace.com'. Adding certificate verification is strongly advised. See: https://urllib3.readthedocs.io/en/latest/advanced-usage.html#ssl-warnings\n",
      "  warnings.warn(\n",
      "/Users/tomasortega/Desktop/PCS_project/venv/lib/python3.9/site-packages/urllib3/connectionpool.py:1013: InsecureRequestWarning: Unverified HTTPS request is being made to host '4datasolution.com'. Adding certificate verification is strongly advised. See: https://urllib3.readthedocs.io/en/latest/advanced-usage.html#ssl-warnings\n",
      "  warnings.warn(\n",
      "/Users/tomasortega/Desktop/PCS_project/venv/lib/python3.9/site-packages/urllib3/connectionpool.py:1013: InsecureRequestWarning: Unverified HTTPS request is being made to host 'bot-dream-5e474ed6.s3.us-east-2.amazonaws.com'. Adding certificate verification is strongly advised. See: https://urllib3.readthedocs.io/en/latest/advanced-usage.html#ssl-warnings\n",
      "  warnings.warn(\n",
      "/Users/tomasortega/Desktop/PCS_project/venv/lib/python3.9/site-packages/urllib3/connectionpool.py:1013: InsecureRequestWarning: Unverified HTTPS request is being made to host 'silky-dust-garnet.glitch.me'. Adding certificate verification is strongly advised. See: https://urllib3.readthedocs.io/en/latest/advanced-usage.html#ssl-warnings\n",
      "  warnings.warn(\n",
      "/Users/tomasortega/Desktop/PCS_project/venv/lib/python3.9/site-packages/urllib3/connectionpool.py:1013: InsecureRequestWarning: Unverified HTTPS request is being made to host 'vh362.timeweb.ru'. Adding certificate verification is strongly advised. See: https://urllib3.readthedocs.io/en/latest/advanced-usage.html#ssl-warnings\n",
      "  warnings.warn(\n",
      "/Users/tomasortega/Desktop/PCS_project/venv/lib/python3.9/site-packages/urllib3/connectionpool.py:1013: InsecureRequestWarning: Unverified HTTPS request is being made to host 'post-swis.blogspot.com'. Adding certificate verification is strongly advised. See: https://urllib3.readthedocs.io/en/latest/advanced-usage.html#ssl-warnings\n",
      "  warnings.warn(\n",
      "/Users/tomasortega/Desktop/PCS_project/venv/lib/python3.9/site-packages/urllib3/connectionpool.py:1013: InsecureRequestWarning: Unverified HTTPS request is being made to host 'claimrprize.com'. Adding certificate verification is strongly advised. See: https://urllib3.readthedocs.io/en/latest/advanced-usage.html#ssl-warnings\n",
      "  warnings.warn(\n",
      "/Users/tomasortega/Desktop/PCS_project/venv/lib/python3.9/site-packages/urllib3/connectionpool.py:1013: InsecureRequestWarning: Unverified HTTPS request is being made to host 'licensingservices.org'. Adding certificate verification is strongly advised. See: https://urllib3.readthedocs.io/en/latest/advanced-usage.html#ssl-warnings\n",
      "  warnings.warn(\n",
      "/Users/tomasortega/Desktop/PCS_project/venv/lib/python3.9/site-packages/urllib3/connectionpool.py:1013: InsecureRequestWarning: Unverified HTTPS request is being made to host 'chief-various-cilantro.glitch.me'. Adding certificate verification is strongly advised. See: https://urllib3.readthedocs.io/en/latest/advanced-usage.html#ssl-warnings\n",
      "  warnings.warn(\n",
      "/Users/tomasortega/Desktop/PCS_project/venv/lib/python3.9/site-packages/urllib3/connectionpool.py:1013: InsecureRequestWarning: Unverified HTTPS request is being made to host 'ccawear.com.au'. Adding certificate verification is strongly advised. See: https://urllib3.readthedocs.io/en/latest/advanced-usage.html#ssl-warnings\n",
      "  warnings.warn(\n",
      "/Users/tomasortega/Desktop/PCS_project/venv/lib/python3.9/site-packages/urllib3/connectionpool.py:1013: InsecureRequestWarning: Unverified HTTPS request is being made to host 'effghana.org'. Adding certificate verification is strongly advised. See: https://urllib3.readthedocs.io/en/latest/advanced-usage.html#ssl-warnings\n",
      "  warnings.warn(\n",
      "/Users/tomasortega/Desktop/PCS_project/venv/lib/python3.9/site-packages/urllib3/connectionpool.py:1013: InsecureRequestWarning: Unverified HTTPS request is being made to host 'monetamarketx.com'. Adding certificate verification is strongly advised. See: https://urllib3.readthedocs.io/en/latest/advanced-usage.html#ssl-warnings\n",
      "  warnings.warn(\n",
      "/Users/tomasortega/Desktop/PCS_project/venv/lib/python3.9/site-packages/urllib3/connectionpool.py:1013: InsecureRequestWarning: Unverified HTTPS request is being made to host 'joursdps2-majpassbp.web.app'. Adding certificate verification is strongly advised. See: https://urllib3.readthedocs.io/en/latest/advanced-usage.html#ssl-warnings\n",
      "  warnings.warn(\n",
      "/Users/tomasortega/Desktop/PCS_project/venv/lib/python3.9/site-packages/urllib3/connectionpool.py:1013: InsecureRequestWarning: Unverified HTTPS request is being made to host 'geteventfree.com'. Adding certificate verification is strongly advised. See: https://urllib3.readthedocs.io/en/latest/advanced-usage.html#ssl-warnings\n",
      "  warnings.warn(\n",
      "/Users/tomasortega/Desktop/PCS_project/venv/lib/python3.9/site-packages/urllib3/connectionpool.py:1013: InsecureRequestWarning: Unverified HTTPS request is being made to host 'geteventfree.com'. Adding certificate verification is strongly advised. See: https://urllib3.readthedocs.io/en/latest/advanced-usage.html#ssl-warnings\n",
      "  warnings.warn(\n",
      "/Users/tomasortega/Desktop/PCS_project/venv/lib/python3.9/site-packages/urllib3/connectionpool.py:1013: InsecureRequestWarning: Unverified HTTPS request is being made to host 'strinidad.com.ar'. Adding certificate verification is strongly advised. See: https://urllib3.readthedocs.io/en/latest/advanced-usage.html#ssl-warnings\n",
      "  warnings.warn(\n",
      "/Users/tomasortega/Desktop/PCS_project/venv/lib/python3.9/site-packages/urllib3/connectionpool.py:1013: InsecureRequestWarning: Unverified HTTPS request is being made to host 'cat-level-apparel.glitch.me'. Adding certificate verification is strongly advised. See: https://urllib3.readthedocs.io/en/latest/advanced-usage.html#ssl-warnings\n",
      "  warnings.warn(\n",
      "/Users/tomasortega/Desktop/PCS_project/venv/lib/python3.9/site-packages/urllib3/connectionpool.py:1013: InsecureRequestWarning: Unverified HTTPS request is being made to host 'mrmovahedi.ir'. Adding certificate verification is strongly advised. See: https://urllib3.readthedocs.io/en/latest/advanced-usage.html#ssl-warnings\n",
      "  warnings.warn(\n",
      "/Users/tomasortega/Desktop/PCS_project/venv/lib/python3.9/site-packages/urllib3/connectionpool.py:1013: InsecureRequestWarning: Unverified HTTPS request is being made to host 'tan-near-particle.glitch.me'. Adding certificate verification is strongly advised. See: https://urllib3.readthedocs.io/en/latest/advanced-usage.html#ssl-warnings\n",
      "  warnings.warn(\n",
      "/Users/tomasortega/Desktop/PCS_project/venv/lib/python3.9/site-packages/urllib3/connectionpool.py:1013: InsecureRequestWarning: Unverified HTTPS request is being made to host 'turnament-pubg2021.ygto.com'. Adding certificate verification is strongly advised. See: https://urllib3.readthedocs.io/en/latest/advanced-usage.html#ssl-warnings\n",
      "  warnings.warn(\n",
      "/Users/tomasortega/Desktop/PCS_project/venv/lib/python3.9/site-packages/urllib3/connectionpool.py:1013: InsecureRequestWarning: Unverified HTTPS request is being made to host 'parcel-confirmation1187.com'. Adding certificate verification is strongly advised. See: https://urllib3.readthedocs.io/en/latest/advanced-usage.html#ssl-warnings\n",
      "  warnings.warn(\n",
      "/Users/tomasortega/Desktop/PCS_project/venv/lib/python3.9/site-packages/urllib3/connectionpool.py:1013: InsecureRequestWarning: Unverified HTTPS request is being made to host 'tarotninetynine.com'. Adding certificate verification is strongly advised. See: https://urllib3.readthedocs.io/en/latest/advanced-usage.html#ssl-warnings\n",
      "  warnings.warn(\n",
      "/Users/tomasortega/Desktop/PCS_project/venv/lib/python3.9/site-packages/urllib3/connectionpool.py:1013: InsecureRequestWarning: Unverified HTTPS request is being made to host 'air-247.com'. Adding certificate verification is strongly advised. See: https://urllib3.readthedocs.io/en/latest/advanced-usage.html#ssl-warnings\n",
      "  warnings.warn(\n"
     ]
    },
    {
     "ename": "KeyboardInterrupt",
     "evalue": "",
     "output_type": "error",
     "traceback": [
      "\u001B[0;31m---------------------------------------------------------------------------\u001B[0m",
      "\u001B[0;31mKeyboardInterrupt\u001B[0m                         Traceback (most recent call last)",
      "\u001B[0;32m<ipython-input-44-c232eb4ef5d6>\u001B[0m in \u001B[0;36m<module>\u001B[0;34m\u001B[0m\n\u001B[1;32m      1\u001B[0m \u001B[0;32mfor\u001B[0m \u001B[0mi\u001B[0m \u001B[0;32min\u001B[0m \u001B[0mrange\u001B[0m\u001B[0;34m(\u001B[0m\u001B[0mlen\u001B[0m\u001B[0;34m(\u001B[0m\u001B[0mphishing_df\u001B[0m\u001B[0;34m)\u001B[0m\u001B[0;34m)\u001B[0m\u001B[0;34m:\u001B[0m\u001B[0;34m\u001B[0m\u001B[0;34m\u001B[0m\u001B[0m\n\u001B[1;32m      2\u001B[0m     \u001B[0;32mtry\u001B[0m\u001B[0;34m:\u001B[0m\u001B[0;34m\u001B[0m\u001B[0;34m\u001B[0m\u001B[0m\n\u001B[0;32m----> 3\u001B[0;31m         \u001B[0mresponse\u001B[0m \u001B[0;34m=\u001B[0m \u001B[0mrequests\u001B[0m\u001B[0;34m.\u001B[0m\u001B[0mget\u001B[0m\u001B[0;34m(\u001B[0m\u001B[0mphishing_df\u001B[0m\u001B[0;34m.\u001B[0m\u001B[0miloc\u001B[0m\u001B[0;34m[\u001B[0m\u001B[0mi\u001B[0m\u001B[0;34m]\u001B[0m\u001B[0;34m,\u001B[0m \u001B[0mallow_redirects\u001B[0m\u001B[0;34m=\u001B[0m\u001B[0;32mTrue\u001B[0m\u001B[0;34m,\u001B[0m \u001B[0mverify\u001B[0m\u001B[0;34m=\u001B[0m\u001B[0;32mFalse\u001B[0m\u001B[0;34m,\u001B[0m \u001B[0mtimeout\u001B[0m\u001B[0;34m=\u001B[0m\u001B[0;36m7\u001B[0m\u001B[0;34m)\u001B[0m\u001B[0;34m\u001B[0m\u001B[0;34m\u001B[0m\u001B[0m\n\u001B[0m\u001B[1;32m      4\u001B[0m         \u001B[0mprint\u001B[0m\u001B[0;34m(\u001B[0m\u001B[0mresponse\u001B[0m\u001B[0;34m.\u001B[0m\u001B[0mstatus_code\u001B[0m\u001B[0;34m)\u001B[0m\u001B[0;34m\u001B[0m\u001B[0;34m\u001B[0m\u001B[0m\n\u001B[1;32m      5\u001B[0m     \u001B[0;32mexcept\u001B[0m \u001B[0mException\u001B[0m \u001B[0;32mas\u001B[0m \u001B[0me\u001B[0m\u001B[0;34m:\u001B[0m\u001B[0;34m\u001B[0m\u001B[0;34m\u001B[0m\u001B[0m\n",
      "\u001B[0;32m~/Desktop/PCS_project/venv/lib/python3.9/site-packages/requests/api.py\u001B[0m in \u001B[0;36mget\u001B[0;34m(url, params, **kwargs)\u001B[0m\n\u001B[1;32m     74\u001B[0m \u001B[0;34m\u001B[0m\u001B[0m\n\u001B[1;32m     75\u001B[0m     \u001B[0mkwargs\u001B[0m\u001B[0;34m.\u001B[0m\u001B[0msetdefault\u001B[0m\u001B[0;34m(\u001B[0m\u001B[0;34m'allow_redirects'\u001B[0m\u001B[0;34m,\u001B[0m \u001B[0;32mTrue\u001B[0m\u001B[0;34m)\u001B[0m\u001B[0;34m\u001B[0m\u001B[0;34m\u001B[0m\u001B[0m\n\u001B[0;32m---> 76\u001B[0;31m     \u001B[0;32mreturn\u001B[0m \u001B[0mrequest\u001B[0m\u001B[0;34m(\u001B[0m\u001B[0;34m'get'\u001B[0m\u001B[0;34m,\u001B[0m \u001B[0murl\u001B[0m\u001B[0;34m,\u001B[0m \u001B[0mparams\u001B[0m\u001B[0;34m=\u001B[0m\u001B[0mparams\u001B[0m\u001B[0;34m,\u001B[0m \u001B[0;34m**\u001B[0m\u001B[0mkwargs\u001B[0m\u001B[0;34m)\u001B[0m\u001B[0;34m\u001B[0m\u001B[0;34m\u001B[0m\u001B[0m\n\u001B[0m\u001B[1;32m     77\u001B[0m \u001B[0;34m\u001B[0m\u001B[0m\n\u001B[1;32m     78\u001B[0m \u001B[0;34m\u001B[0m\u001B[0m\n",
      "\u001B[0;32m~/Desktop/PCS_project/venv/lib/python3.9/site-packages/requests/api.py\u001B[0m in \u001B[0;36mrequest\u001B[0;34m(method, url, **kwargs)\u001B[0m\n\u001B[1;32m     59\u001B[0m     \u001B[0;31m# cases, and look like a memory leak in others.\u001B[0m\u001B[0;34m\u001B[0m\u001B[0;34m\u001B[0m\u001B[0;34m\u001B[0m\u001B[0m\n\u001B[1;32m     60\u001B[0m     \u001B[0;32mwith\u001B[0m \u001B[0msessions\u001B[0m\u001B[0;34m.\u001B[0m\u001B[0mSession\u001B[0m\u001B[0;34m(\u001B[0m\u001B[0;34m)\u001B[0m \u001B[0;32mas\u001B[0m \u001B[0msession\u001B[0m\u001B[0;34m:\u001B[0m\u001B[0;34m\u001B[0m\u001B[0;34m\u001B[0m\u001B[0m\n\u001B[0;32m---> 61\u001B[0;31m         \u001B[0;32mreturn\u001B[0m \u001B[0msession\u001B[0m\u001B[0;34m.\u001B[0m\u001B[0mrequest\u001B[0m\u001B[0;34m(\u001B[0m\u001B[0mmethod\u001B[0m\u001B[0;34m=\u001B[0m\u001B[0mmethod\u001B[0m\u001B[0;34m,\u001B[0m \u001B[0murl\u001B[0m\u001B[0;34m=\u001B[0m\u001B[0murl\u001B[0m\u001B[0;34m,\u001B[0m \u001B[0;34m**\u001B[0m\u001B[0mkwargs\u001B[0m\u001B[0;34m)\u001B[0m\u001B[0;34m\u001B[0m\u001B[0;34m\u001B[0m\u001B[0m\n\u001B[0m\u001B[1;32m     62\u001B[0m \u001B[0;34m\u001B[0m\u001B[0m\n\u001B[1;32m     63\u001B[0m \u001B[0;34m\u001B[0m\u001B[0m\n",
      "\u001B[0;32m~/Desktop/PCS_project/venv/lib/python3.9/site-packages/requests/sessions.py\u001B[0m in \u001B[0;36mrequest\u001B[0;34m(self, method, url, params, data, headers, cookies, files, auth, timeout, allow_redirects, proxies, hooks, stream, verify, cert, json)\u001B[0m\n\u001B[1;32m    530\u001B[0m         \u001B[0mproxies\u001B[0m \u001B[0;34m=\u001B[0m \u001B[0mproxies\u001B[0m \u001B[0;32mor\u001B[0m \u001B[0;34m{\u001B[0m\u001B[0;34m}\u001B[0m\u001B[0;34m\u001B[0m\u001B[0;34m\u001B[0m\u001B[0m\n\u001B[1;32m    531\u001B[0m \u001B[0;34m\u001B[0m\u001B[0m\n\u001B[0;32m--> 532\u001B[0;31m         settings = self.merge_environment_settings(\n\u001B[0m\u001B[1;32m    533\u001B[0m             \u001B[0mprep\u001B[0m\u001B[0;34m.\u001B[0m\u001B[0murl\u001B[0m\u001B[0;34m,\u001B[0m \u001B[0mproxies\u001B[0m\u001B[0;34m,\u001B[0m \u001B[0mstream\u001B[0m\u001B[0;34m,\u001B[0m \u001B[0mverify\u001B[0m\u001B[0;34m,\u001B[0m \u001B[0mcert\u001B[0m\u001B[0;34m\u001B[0m\u001B[0;34m\u001B[0m\u001B[0m\n\u001B[1;32m    534\u001B[0m         )\n",
      "\u001B[0;32m~/Desktop/PCS_project/venv/lib/python3.9/site-packages/requests/sessions.py\u001B[0m in \u001B[0;36mmerge_environment_settings\u001B[0;34m(self, url, proxies, stream, verify, cert)\u001B[0m\n\u001B[1;32m    709\u001B[0m             \u001B[0;31m# Set environment's proxies.\u001B[0m\u001B[0;34m\u001B[0m\u001B[0;34m\u001B[0m\u001B[0;34m\u001B[0m\u001B[0m\n\u001B[1;32m    710\u001B[0m             \u001B[0mno_proxy\u001B[0m \u001B[0;34m=\u001B[0m \u001B[0mproxies\u001B[0m\u001B[0;34m.\u001B[0m\u001B[0mget\u001B[0m\u001B[0;34m(\u001B[0m\u001B[0;34m'no_proxy'\u001B[0m\u001B[0;34m)\u001B[0m \u001B[0;32mif\u001B[0m \u001B[0mproxies\u001B[0m \u001B[0;32mis\u001B[0m \u001B[0;32mnot\u001B[0m \u001B[0;32mNone\u001B[0m \u001B[0;32melse\u001B[0m \u001B[0;32mNone\u001B[0m\u001B[0;34m\u001B[0m\u001B[0;34m\u001B[0m\u001B[0m\n\u001B[0;32m--> 711\u001B[0;31m             \u001B[0menv_proxies\u001B[0m \u001B[0;34m=\u001B[0m \u001B[0mget_environ_proxies\u001B[0m\u001B[0;34m(\u001B[0m\u001B[0murl\u001B[0m\u001B[0;34m,\u001B[0m \u001B[0mno_proxy\u001B[0m\u001B[0;34m=\u001B[0m\u001B[0mno_proxy\u001B[0m\u001B[0;34m)\u001B[0m\u001B[0;34m\u001B[0m\u001B[0;34m\u001B[0m\u001B[0m\n\u001B[0m\u001B[1;32m    712\u001B[0m             \u001B[0;32mfor\u001B[0m \u001B[0;34m(\u001B[0m\u001B[0mk\u001B[0m\u001B[0;34m,\u001B[0m \u001B[0mv\u001B[0m\u001B[0;34m)\u001B[0m \u001B[0;32min\u001B[0m \u001B[0menv_proxies\u001B[0m\u001B[0;34m.\u001B[0m\u001B[0mitems\u001B[0m\u001B[0;34m(\u001B[0m\u001B[0;34m)\u001B[0m\u001B[0;34m:\u001B[0m\u001B[0;34m\u001B[0m\u001B[0;34m\u001B[0m\u001B[0m\n\u001B[1;32m    713\u001B[0m                 \u001B[0mproxies\u001B[0m\u001B[0;34m.\u001B[0m\u001B[0msetdefault\u001B[0m\u001B[0;34m(\u001B[0m\u001B[0mk\u001B[0m\u001B[0;34m,\u001B[0m \u001B[0mv\u001B[0m\u001B[0;34m)\u001B[0m\u001B[0;34m\u001B[0m\u001B[0;34m\u001B[0m\u001B[0m\n",
      "\u001B[0;32m~/Desktop/PCS_project/venv/lib/python3.9/site-packages/requests/utils.py\u001B[0m in \u001B[0;36mget_environ_proxies\u001B[0;34m(url, no_proxy)\u001B[0m\n\u001B[1;32m    774\u001B[0m     \u001B[0;34m:\u001B[0m\u001B[0mrtype\u001B[0m\u001B[0;34m:\u001B[0m \u001B[0mdict\u001B[0m\u001B[0;34m\u001B[0m\u001B[0;34m\u001B[0m\u001B[0m\n\u001B[1;32m    775\u001B[0m     \"\"\"\n\u001B[0;32m--> 776\u001B[0;31m     \u001B[0;32mif\u001B[0m \u001B[0mshould_bypass_proxies\u001B[0m\u001B[0;34m(\u001B[0m\u001B[0murl\u001B[0m\u001B[0;34m,\u001B[0m \u001B[0mno_proxy\u001B[0m\u001B[0;34m=\u001B[0m\u001B[0mno_proxy\u001B[0m\u001B[0;34m)\u001B[0m\u001B[0;34m:\u001B[0m\u001B[0;34m\u001B[0m\u001B[0;34m\u001B[0m\u001B[0m\n\u001B[0m\u001B[1;32m    777\u001B[0m         \u001B[0;32mreturn\u001B[0m \u001B[0;34m{\u001B[0m\u001B[0;34m}\u001B[0m\u001B[0;34m\u001B[0m\u001B[0;34m\u001B[0m\u001B[0m\n\u001B[1;32m    778\u001B[0m     \u001B[0;32melse\u001B[0m\u001B[0;34m:\u001B[0m\u001B[0;34m\u001B[0m\u001B[0;34m\u001B[0m\u001B[0m\n",
      "\u001B[0;32m~/Desktop/PCS_project/venv/lib/python3.9/site-packages/requests/utils.py\u001B[0m in \u001B[0;36mshould_bypass_proxies\u001B[0;34m(url, no_proxy)\u001B[0m\n\u001B[1;32m    758\u001B[0m         \u001B[0;31m# parsed.hostname can be `None` in cases such as a file URI.\u001B[0m\u001B[0;34m\u001B[0m\u001B[0;34m\u001B[0m\u001B[0;34m\u001B[0m\u001B[0m\n\u001B[1;32m    759\u001B[0m         \u001B[0;32mtry\u001B[0m\u001B[0;34m:\u001B[0m\u001B[0;34m\u001B[0m\u001B[0;34m\u001B[0m\u001B[0m\n\u001B[0;32m--> 760\u001B[0;31m             \u001B[0mbypass\u001B[0m \u001B[0;34m=\u001B[0m \u001B[0mproxy_bypass\u001B[0m\u001B[0;34m(\u001B[0m\u001B[0mparsed\u001B[0m\u001B[0;34m.\u001B[0m\u001B[0mhostname\u001B[0m\u001B[0;34m)\u001B[0m\u001B[0;34m\u001B[0m\u001B[0;34m\u001B[0m\u001B[0m\n\u001B[0m\u001B[1;32m    761\u001B[0m         \u001B[0;32mexcept\u001B[0m \u001B[0;34m(\u001B[0m\u001B[0mTypeError\u001B[0m\u001B[0;34m,\u001B[0m \u001B[0msocket\u001B[0m\u001B[0;34m.\u001B[0m\u001B[0mgaierror\u001B[0m\u001B[0;34m)\u001B[0m\u001B[0;34m:\u001B[0m\u001B[0;34m\u001B[0m\u001B[0;34m\u001B[0m\u001B[0m\n\u001B[1;32m    762\u001B[0m             \u001B[0mbypass\u001B[0m \u001B[0;34m=\u001B[0m \u001B[0;32mFalse\u001B[0m\u001B[0;34m\u001B[0m\u001B[0;34m\u001B[0m\u001B[0m\n",
      "\u001B[0;32m/usr/local/Cellar/python@3.9/3.9.4/Frameworks/Python.framework/Versions/3.9/lib/python3.9/urllib/request.py\u001B[0m in \u001B[0;36mproxy_bypass\u001B[0;34m(host)\u001B[0m\n\u001B[1;32m   2645\u001B[0m             \u001B[0;32mreturn\u001B[0m \u001B[0mproxy_bypass_environment\u001B[0m\u001B[0;34m(\u001B[0m\u001B[0mhost\u001B[0m\u001B[0;34m,\u001B[0m \u001B[0mproxies\u001B[0m\u001B[0;34m)\u001B[0m\u001B[0;34m\u001B[0m\u001B[0;34m\u001B[0m\u001B[0m\n\u001B[1;32m   2646\u001B[0m         \u001B[0;32melse\u001B[0m\u001B[0;34m:\u001B[0m\u001B[0;34m\u001B[0m\u001B[0;34m\u001B[0m\u001B[0m\n\u001B[0;32m-> 2647\u001B[0;31m             \u001B[0;32mreturn\u001B[0m \u001B[0mproxy_bypass_macosx_sysconf\u001B[0m\u001B[0;34m(\u001B[0m\u001B[0mhost\u001B[0m\u001B[0;34m)\u001B[0m\u001B[0;34m\u001B[0m\u001B[0;34m\u001B[0m\u001B[0m\n\u001B[0m\u001B[1;32m   2648\u001B[0m \u001B[0;34m\u001B[0m\u001B[0m\n\u001B[1;32m   2649\u001B[0m     \u001B[0;32mdef\u001B[0m \u001B[0mgetproxies\u001B[0m\u001B[0;34m(\u001B[0m\u001B[0;34m)\u001B[0m\u001B[0;34m:\u001B[0m\u001B[0;34m\u001B[0m\u001B[0;34m\u001B[0m\u001B[0m\n",
      "\u001B[0;32m/usr/local/Cellar/python@3.9/3.9.4/Frameworks/Python.framework/Versions/3.9/lib/python3.9/urllib/request.py\u001B[0m in \u001B[0;36mproxy_bypass_macosx_sysconf\u001B[0;34m(host)\u001B[0m\n\u001B[1;32m   2622\u001B[0m     \u001B[0;32mdef\u001B[0m \u001B[0mproxy_bypass_macosx_sysconf\u001B[0m\u001B[0;34m(\u001B[0m\u001B[0mhost\u001B[0m\u001B[0;34m)\u001B[0m\u001B[0;34m:\u001B[0m\u001B[0;34m\u001B[0m\u001B[0;34m\u001B[0m\u001B[0m\n\u001B[1;32m   2623\u001B[0m         \u001B[0mproxy_settings\u001B[0m \u001B[0;34m=\u001B[0m \u001B[0m_get_proxy_settings\u001B[0m\u001B[0;34m(\u001B[0m\u001B[0;34m)\u001B[0m\u001B[0;34m\u001B[0m\u001B[0;34m\u001B[0m\u001B[0m\n\u001B[0;32m-> 2624\u001B[0;31m         \u001B[0;32mreturn\u001B[0m \u001B[0m_proxy_bypass_macosx_sysconf\u001B[0m\u001B[0;34m(\u001B[0m\u001B[0mhost\u001B[0m\u001B[0;34m,\u001B[0m \u001B[0mproxy_settings\u001B[0m\u001B[0;34m)\u001B[0m\u001B[0;34m\u001B[0m\u001B[0;34m\u001B[0m\u001B[0m\n\u001B[0m\u001B[1;32m   2625\u001B[0m \u001B[0;34m\u001B[0m\u001B[0m\n\u001B[1;32m   2626\u001B[0m     \u001B[0;32mdef\u001B[0m \u001B[0mgetproxies_macosx_sysconf\u001B[0m\u001B[0;34m(\u001B[0m\u001B[0;34m)\u001B[0m\u001B[0;34m:\u001B[0m\u001B[0;34m\u001B[0m\u001B[0;34m\u001B[0m\u001B[0m\n",
      "\u001B[0;32m/usr/local/Cellar/python@3.9/3.9.4/Frameworks/Python.framework/Versions/3.9/lib/python3.9/urllib/request.py\u001B[0m in \u001B[0;36m_proxy_bypass_macosx_sysconf\u001B[0;34m(host, proxy_settings)\u001B[0m\n\u001B[1;32m   2590\u001B[0m             \u001B[0;32mif\u001B[0m \u001B[0mhostIP\u001B[0m \u001B[0;32mis\u001B[0m \u001B[0;32mNone\u001B[0m\u001B[0;34m:\u001B[0m\u001B[0;34m\u001B[0m\u001B[0;34m\u001B[0m\u001B[0m\n\u001B[1;32m   2591\u001B[0m                 \u001B[0;32mtry\u001B[0m\u001B[0;34m:\u001B[0m\u001B[0;34m\u001B[0m\u001B[0;34m\u001B[0m\u001B[0m\n\u001B[0;32m-> 2592\u001B[0;31m                     \u001B[0mhostIP\u001B[0m \u001B[0;34m=\u001B[0m \u001B[0msocket\u001B[0m\u001B[0;34m.\u001B[0m\u001B[0mgethostbyname\u001B[0m\u001B[0;34m(\u001B[0m\u001B[0mhostonly\u001B[0m\u001B[0;34m)\u001B[0m\u001B[0;34m\u001B[0m\u001B[0;34m\u001B[0m\u001B[0m\n\u001B[0m\u001B[1;32m   2593\u001B[0m                     \u001B[0mhostIP\u001B[0m \u001B[0;34m=\u001B[0m \u001B[0mip2num\u001B[0m\u001B[0;34m(\u001B[0m\u001B[0mhostIP\u001B[0m\u001B[0;34m)\u001B[0m\u001B[0;34m\u001B[0m\u001B[0;34m\u001B[0m\u001B[0m\n\u001B[1;32m   2594\u001B[0m                 \u001B[0;32mexcept\u001B[0m \u001B[0mOSError\u001B[0m\u001B[0;34m:\u001B[0m\u001B[0;34m\u001B[0m\u001B[0;34m\u001B[0m\u001B[0m\n",
      "\u001B[0;31mKeyboardInterrupt\u001B[0m: "
     ]
    }
   ],
   "source": [
    "for i in range(len(phishing_df)):\n",
    "    try:\n",
    "        response = requests.get(phishing_df.iloc[i], allow_redirects=True, verify=False, timeout=7)\n",
    "        print(response.status_code)\n",
    "    except Exception as e:\n",
    "        print(e)\n",
    "        pass"
   ],
   "metadata": {
    "collapsed": false,
    "pycharm": {
     "name": "#%%\n"
    }
   }
  },
  {
   "cell_type": "code",
   "execution_count": 4,
   "outputs": [
    {
     "name": "stderr",
     "output_type": "stream",
     "text": [
      "/Users/tomasortega/Desktop/PCS_project/venv/lib/python3.9/site-packages/IPython/core/interactiveshell.py:3146: DtypeWarning: Columns (1) have mixed types.Specify dtype option on import or set low_memory=False.\n",
      "  has_raised = await self.run_ast_nodes(code_ast.body, cell_name,\n"
     ]
    }
   ],
   "source": [
    "import pandas as pd\n",
    "legit_df1 = pd.read_csv(\"original_datasets/sc_legit_data_collected.csv\")"
   ],
   "metadata": {
    "collapsed": false,
    "pycharm": {
     "name": "#%%\n"
    }
   }
  }
 ],
 "metadata": {
  "kernelspec": {
   "display_name": "Python 3",
   "language": "python",
   "name": "python3"
  },
  "language_info": {
   "codemirror_mode": {
    "name": "ipython",
    "version": 2
   },
   "file_extension": ".py",
   "mimetype": "text/x-python",
   "name": "python",
   "nbconvert_exporter": "python",
   "pygments_lexer": "ipython2",
   "version": "2.7.6"
  }
 },
 "nbformat": 4,
 "nbformat_minor": 0
}