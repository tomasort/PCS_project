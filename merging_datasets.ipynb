{
 "cells": [
  {
   "cell_type": "code",
   "execution_count": 28,
   "metadata": {
    "collapsed": true
   },
   "outputs": [
    {
     "name": "stderr",
     "output_type": "stream",
     "text": [
      "/Users/tomasortega/Desktop/PCS_project/venv/lib/python3.9/site-packages/IPython/core/interactiveshell.py:3146: DtypeWarning: Columns (1) have mixed types.Specify dtype option on import or set low_memory=False.\n",
      "  has_raised = await self.run_ast_nodes(code_ast.body, cell_name,\n"
     ]
    }
   ],
   "source": [
    "import pandas as pd\n",
    "\n",
    "legit_df1 = pd.read_csv(\"original_datasets/sc_legit_data_collected.csv\")\n",
    "legit_df2 = pd.read_csv(\"legit_data_collected.csv\")"
   ]
  },
  {
   "cell_type": "code",
   "execution_count": 29,
   "outputs": [
    {
     "name": "stderr",
     "output_type": "stream",
     "text": [
      "/Users/tomasortega/Desktop/PCS_project/venv/lib/python3.9/site-packages/IPython/core/interactiveshell.py:3146: DtypeWarning: Columns (109) have mixed types.Specify dtype option on import or set low_memory=False.\n",
      "  has_raised = await self.run_ast_nodes(code_ast.body, cell_name,\n"
     ]
    }
   ],
   "source": [
    "phish_df1 = pd.read_csv(\"original_datasets/phishing_data_collected.csv\")\n",
    "phish_df2 = pd.read_csv(\"phish_data_collected.csv\")"
   ],
   "metadata": {
    "collapsed": false,
    "pycharm": {
     "name": "#%%\n"
    }
   }
  },
  {
   "cell_type": "code",
   "execution_count": 32,
   "outputs": [],
   "source": [
    "phish_df = pd.concat([phish_df1, phish_df2], ignore_index=True)\n"
   ],
   "metadata": {
    "collapsed": false,
    "pycharm": {
     "name": "#%%\n"
    }
   }
  },
  {
   "cell_type": "code",
   "execution_count": 33,
   "outputs": [],
   "source": [
    "def fix(x):\n",
    "    return x.replace(\"%3A\", \":\")\n",
    "\n",
    "phish_df['url'] = phish_df['url'].apply(fix)"
   ],
   "metadata": {
    "collapsed": false,
    "pycharm": {
     "name": "#%%\n"
    }
   }
  },
  {
   "cell_type": "code",
   "execution_count": 35,
   "outputs": [],
   "source": [
    "phish_df.drop_duplicates(subset=['url', 'live', 'redirects', 'cookies'], inplace=True)"
   ],
   "metadata": {
    "collapsed": false,
    "pycharm": {
     "name": "#%%\n"
    }
   }
  },
  {
   "cell_type": "code",
   "execution_count": 36,
   "outputs": [],
   "source": [
    "phish_df.drop(phish_df[phish_df['port'].isna()].index, inplace=True)"
   ],
   "metadata": {
    "collapsed": false,
    "pycharm": {
     "name": "#%%\n"
    }
   }
  },
  {
   "cell_type": "code",
   "execution_count": 37,
   "outputs": [
    {
     "data": {
      "text/plain": "                                                     url  url_dots  \\\n0              https://youtubergrub.freefire011-bgid.cf/         2   \n1      https://youtubergrub.freefire011-bgid.cf/login...         3   \n2          https://www.youtubergrub.freefire011-bgid.cf/         3   \n3      https://www.youtubergrub.freefire011-bgid.cf/l...         4   \n4                  http://instagrahay.000webhostapp.com/         2   \n...                                                  ...       ...   \n59112                         http://www.escortfx.co.uk/         3   \n59114                  http://www.legs-in-pantyhose.com/         2   \n59115  http://www.jennajamesoncumshots.com/adult_star...         2   \n59116                              http://www.alcot.biz/         2   \n59123  http://www.licketysplits.com/xxz3/xxz305/index...         3   \n\n       url_hyphens  url_underscores  url_slashes  url_double_slashes  \\\n0                1                0            3                   1   \n1                1                0            3                   1   \n2                1                0            3                   1   \n3                1                0            3                   1   \n4                0                0            3                   1   \n...            ...              ...          ...                 ...   \n59112            0                0            3                   1   \n59114            2                0            3                   1   \n59115            0                3            5                   1   \n59116            0                0            3                   1   \n59123            0                0            5                   1   \n\n       url_questions  url_equals  url_ats  url_amps  ...  disable_right_click  \\\n0                  0           0        0         0  ...                   -1   \n1                  0           0        0         0  ...                   -1   \n2                  0           0        0         0  ...                   -1   \n3                  0           0        0         0  ...                   -1   \n4                  0           0        0         0  ...                    0   \n...              ...         ...      ...       ...  ...                  ...   \n59112              0           0        0         0  ...                    0   \n59114              0           0        0         0  ...                    0   \n59115              0           0        0         0  ...                    0   \n59116              0           0        0         0  ...                    0   \n59123              0           0        0         0  ...                    0   \n\n       email_in_script  favicon  ext_favicon  img  null_self_redirects  \\\n0                   -1       -1           -1   -1                   -1   \n1                   -1       -1           -1   -1                   -1   \n2                   -1       -1           -1   -1                   -1   \n3                   -1       -1           -1   -1                   -1   \n4                    0        1            1    5                    0   \n...                ...      ...          ...  ...                  ...   \n59112                0        0            0    0                    0   \n59114                0        0            0   14                    0   \n59115                0        0            0   43                    2   \n59116                0        1            0    3                    0   \n59123                0        0            0    0                    0   \n\n       a_tags  ext_links  iframes  port  \n0          -1         -1       -1  None  \n1          -1         -1       -1  None  \n2          -1         -1       -1  None  \n3          -1         -1       -1  None  \n4           4          4        0  None  \n...       ...        ...      ...   ...  \n59112       0          0        0  None  \n59114      40         40        0  None  \n59115      63          5        0  None  \n59116       4          3        0  None  \n59123       0          0        0  None  \n\n[49736 rows x 136 columns]",
      "text/html": "<div>\n<style scoped>\n    .dataframe tbody tr th:only-of-type {\n        vertical-align: middle;\n    }\n\n    .dataframe tbody tr th {\n        vertical-align: top;\n    }\n\n    .dataframe thead th {\n        text-align: right;\n    }\n</style>\n<table border=\"1\" class=\"dataframe\">\n  <thead>\n    <tr style=\"text-align: right;\">\n      <th></th>\n      <th>url</th>\n      <th>url_dots</th>\n      <th>url_hyphens</th>\n      <th>url_underscores</th>\n      <th>url_slashes</th>\n      <th>url_double_slashes</th>\n      <th>url_questions</th>\n      <th>url_equals</th>\n      <th>url_ats</th>\n      <th>url_amps</th>\n      <th>...</th>\n      <th>disable_right_click</th>\n      <th>email_in_script</th>\n      <th>favicon</th>\n      <th>ext_favicon</th>\n      <th>img</th>\n      <th>null_self_redirects</th>\n      <th>a_tags</th>\n      <th>ext_links</th>\n      <th>iframes</th>\n      <th>port</th>\n    </tr>\n  </thead>\n  <tbody>\n    <tr>\n      <th>0</th>\n      <td>https://youtubergrub.freefire011-bgid.cf/</td>\n      <td>2</td>\n      <td>1</td>\n      <td>0</td>\n      <td>3</td>\n      <td>1</td>\n      <td>0</td>\n      <td>0</td>\n      <td>0</td>\n      <td>0</td>\n      <td>...</td>\n      <td>-1</td>\n      <td>-1</td>\n      <td>-1</td>\n      <td>-1</td>\n      <td>-1</td>\n      <td>-1</td>\n      <td>-1</td>\n      <td>-1</td>\n      <td>-1</td>\n      <td>None</td>\n    </tr>\n    <tr>\n      <th>1</th>\n      <td>https://youtubergrub.freefire011-bgid.cf/login...</td>\n      <td>3</td>\n      <td>1</td>\n      <td>0</td>\n      <td>3</td>\n      <td>1</td>\n      <td>0</td>\n      <td>0</td>\n      <td>0</td>\n      <td>0</td>\n      <td>...</td>\n      <td>-1</td>\n      <td>-1</td>\n      <td>-1</td>\n      <td>-1</td>\n      <td>-1</td>\n      <td>-1</td>\n      <td>-1</td>\n      <td>-1</td>\n      <td>-1</td>\n      <td>None</td>\n    </tr>\n    <tr>\n      <th>2</th>\n      <td>https://www.youtubergrub.freefire011-bgid.cf/</td>\n      <td>3</td>\n      <td>1</td>\n      <td>0</td>\n      <td>3</td>\n      <td>1</td>\n      <td>0</td>\n      <td>0</td>\n      <td>0</td>\n      <td>0</td>\n      <td>...</td>\n      <td>-1</td>\n      <td>-1</td>\n      <td>-1</td>\n      <td>-1</td>\n      <td>-1</td>\n      <td>-1</td>\n      <td>-1</td>\n      <td>-1</td>\n      <td>-1</td>\n      <td>None</td>\n    </tr>\n    <tr>\n      <th>3</th>\n      <td>https://www.youtubergrub.freefire011-bgid.cf/l...</td>\n      <td>4</td>\n      <td>1</td>\n      <td>0</td>\n      <td>3</td>\n      <td>1</td>\n      <td>0</td>\n      <td>0</td>\n      <td>0</td>\n      <td>0</td>\n      <td>...</td>\n      <td>-1</td>\n      <td>-1</td>\n      <td>-1</td>\n      <td>-1</td>\n      <td>-1</td>\n      <td>-1</td>\n      <td>-1</td>\n      <td>-1</td>\n      <td>-1</td>\n      <td>None</td>\n    </tr>\n    <tr>\n      <th>4</th>\n      <td>http://instagrahay.000webhostapp.com/</td>\n      <td>2</td>\n      <td>0</td>\n      <td>0</td>\n      <td>3</td>\n      <td>1</td>\n      <td>0</td>\n      <td>0</td>\n      <td>0</td>\n      <td>0</td>\n      <td>...</td>\n      <td>0</td>\n      <td>0</td>\n      <td>1</td>\n      <td>1</td>\n      <td>5</td>\n      <td>0</td>\n      <td>4</td>\n      <td>4</td>\n      <td>0</td>\n      <td>None</td>\n    </tr>\n    <tr>\n      <th>...</th>\n      <td>...</td>\n      <td>...</td>\n      <td>...</td>\n      <td>...</td>\n      <td>...</td>\n      <td>...</td>\n      <td>...</td>\n      <td>...</td>\n      <td>...</td>\n      <td>...</td>\n      <td>...</td>\n      <td>...</td>\n      <td>...</td>\n      <td>...</td>\n      <td>...</td>\n      <td>...</td>\n      <td>...</td>\n      <td>...</td>\n      <td>...</td>\n      <td>...</td>\n      <td>...</td>\n    </tr>\n    <tr>\n      <th>59112</th>\n      <td>http://www.escortfx.co.uk/</td>\n      <td>3</td>\n      <td>0</td>\n      <td>0</td>\n      <td>3</td>\n      <td>1</td>\n      <td>0</td>\n      <td>0</td>\n      <td>0</td>\n      <td>0</td>\n      <td>...</td>\n      <td>0</td>\n      <td>0</td>\n      <td>0</td>\n      <td>0</td>\n      <td>0</td>\n      <td>0</td>\n      <td>0</td>\n      <td>0</td>\n      <td>0</td>\n      <td>None</td>\n    </tr>\n    <tr>\n      <th>59114</th>\n      <td>http://www.legs-in-pantyhose.com/</td>\n      <td>2</td>\n      <td>2</td>\n      <td>0</td>\n      <td>3</td>\n      <td>1</td>\n      <td>0</td>\n      <td>0</td>\n      <td>0</td>\n      <td>0</td>\n      <td>...</td>\n      <td>0</td>\n      <td>0</td>\n      <td>0</td>\n      <td>0</td>\n      <td>14</td>\n      <td>0</td>\n      <td>40</td>\n      <td>40</td>\n      <td>0</td>\n      <td>None</td>\n    </tr>\n    <tr>\n      <th>59115</th>\n      <td>http://www.jennajamesoncumshots.com/adult_star...</td>\n      <td>2</td>\n      <td>0</td>\n      <td>3</td>\n      <td>5</td>\n      <td>1</td>\n      <td>0</td>\n      <td>0</td>\n      <td>0</td>\n      <td>0</td>\n      <td>...</td>\n      <td>0</td>\n      <td>0</td>\n      <td>0</td>\n      <td>0</td>\n      <td>43</td>\n      <td>2</td>\n      <td>63</td>\n      <td>5</td>\n      <td>0</td>\n      <td>None</td>\n    </tr>\n    <tr>\n      <th>59116</th>\n      <td>http://www.alcot.biz/</td>\n      <td>2</td>\n      <td>0</td>\n      <td>0</td>\n      <td>3</td>\n      <td>1</td>\n      <td>0</td>\n      <td>0</td>\n      <td>0</td>\n      <td>0</td>\n      <td>...</td>\n      <td>0</td>\n      <td>0</td>\n      <td>1</td>\n      <td>0</td>\n      <td>3</td>\n      <td>0</td>\n      <td>4</td>\n      <td>3</td>\n      <td>0</td>\n      <td>None</td>\n    </tr>\n    <tr>\n      <th>59123</th>\n      <td>http://www.licketysplits.com/xxz3/xxz305/index...</td>\n      <td>3</td>\n      <td>0</td>\n      <td>0</td>\n      <td>5</td>\n      <td>1</td>\n      <td>0</td>\n      <td>0</td>\n      <td>0</td>\n      <td>0</td>\n      <td>...</td>\n      <td>0</td>\n      <td>0</td>\n      <td>0</td>\n      <td>0</td>\n      <td>0</td>\n      <td>0</td>\n      <td>0</td>\n      <td>0</td>\n      <td>0</td>\n      <td>None</td>\n    </tr>\n  </tbody>\n</table>\n<p>49736 rows × 136 columns</p>\n</div>"
     },
     "execution_count": 37,
     "metadata": {},
     "output_type": "execute_result"
    }
   ],
   "source": [
    "phish_df"
   ],
   "metadata": {
    "collapsed": false,
    "pycharm": {
     "name": "#%%\n"
    }
   }
  },
  {
   "cell_type": "code",
   "execution_count": 38,
   "outputs": [],
   "source": [
    "phish_df = phish_df.replace(\"None\", float('nan'))\n",
    "phish_df.port = phish_df.port.astype(\"float64\")"
   ],
   "metadata": {
    "collapsed": false,
    "pycharm": {
     "name": "#%%\n"
    }
   }
  },
  {
   "cell_type": "code",
   "execution_count": 39,
   "outputs": [],
   "source": [
    "phish_df['label'] = 1"
   ],
   "metadata": {
    "collapsed": false,
    "pycharm": {
     "name": "#%%\n"
    }
   }
  },
  {
   "cell_type": "code",
   "execution_count": 40,
   "outputs": [],
   "source": [
    "phish_df.to_csv(\"collected_data_from_phishing_urls.csv\", index=False)\n"
   ],
   "metadata": {
    "collapsed": false,
    "pycharm": {
     "name": "#%%\n"
    }
   }
  },
  {
   "cell_type": "code",
   "execution_count": 41,
   "outputs": [],
   "source": [
    "legit_df = pd.concat([legit_df1, legit_df2], ignore_index=True)"
   ],
   "metadata": {
    "collapsed": false,
    "pycharm": {
     "name": "#%%\n"
    }
   }
  },
  {
   "cell_type": "code",
   "execution_count": 42,
   "outputs": [
    {
     "name": "stdout",
     "output_type": "stream",
     "text": [
      "<class 'str'>\n",
      "<class 'str'>\n",
      "<class 'str'>\n",
      "<class 'str'>\n",
      "<class 'float'>\n",
      "<class 'str'>\n",
      "<class 'str'>\n",
      "<class 'str'>\n",
      "<class 'str'>\n"
     ]
    }
   ],
   "source": [
    "for i in legit_df.port.unique():\n",
    "    print(type(i))"
   ],
   "metadata": {
    "collapsed": false,
    "pycharm": {
     "name": "#%%\n"
    }
   }
  },
  {
   "cell_type": "code",
   "execution_count": 43,
   "outputs": [],
   "source": [
    "legit_df.drop(legit_df[legit_df['port'].isna()].index, inplace=True)"
   ],
   "metadata": {
    "collapsed": false,
    "pycharm": {
     "name": "#%%\n"
    }
   }
  },
  {
   "cell_type": "code",
   "execution_count": 44,
   "outputs": [
    {
     "data": {
      "text/plain": "                                                     url url_dots  \\\n0      https%3A//www.mckinleyelevator.com/contact-us/...        2   \n1      https%3A//www.mckinleyelevator.com/galleries/g...        2   \n2      https%3A//www.linkedin.com/company/mckinley-el...        2   \n3      https%3A//www.mckinleyelevator.com/products/ma...        2   \n4      https%3A//www.mckinleyelevator.com/products/ve...        2   \n...                                                  ...      ...   \n44508                    http%3A//www.bbc.co.uk/privacy/        3   \n44509  https%3A//myaccount.google.com/%3Futm_source%3...        2   \n44510         https%3A//mail.google.com/mail/%3Ftab%3Dwm        2   \n44511        http%3A//news.bbc.co.uk/1/hi/uk/1563716.stm        4   \n44512                               fashionsnightout.com        1   \n\n       url_hyphens  url_underscores  url_slashes  url_double_slashes  \\\n0              1.0              0.0          5.0                 1.0   \n1              4.0              0.0          5.0                 1.0   \n2              1.0              0.0          4.0                 1.0   \n3              2.0              0.0          5.0                 1.0   \n4              2.0              0.0          5.0                 1.0   \n...            ...              ...          ...                 ...   \n44508          0.0              0.0          4.0                 1.0   \n44509          0.0              2.0          3.0                 1.0   \n44510          0.0              0.0          4.0                 1.0   \n44511          0.0              0.0          6.0                 1.0   \n44512          0.0              0.0          2.0                 1.0   \n\n       url_questions  url_equals  url_ats  url_amps  ...  disable_right_click  \\\n0                0.0         0.0      0.0       0.0  ...                  0.0   \n1                0.0         0.0      0.0       0.0  ...                  0.0   \n2                0.0         0.0      0.0       0.0  ...                  0.0   \n3                0.0         0.0      0.0       0.0  ...                  0.0   \n4                0.0         0.0      0.0       0.0  ...                  0.0   \n...              ...         ...      ...       ...  ...                  ...   \n44508            0.0         0.0      0.0       0.0  ...                  0.0   \n44509            1.0         3.0      0.0       2.0  ...                  0.0   \n44510            1.0         1.0      0.0       0.0  ...                  1.0   \n44511            0.0         0.0      0.0       0.0  ...                  0.0   \n44512            0.0         0.0      0.0       0.0  ...                 -1.0   \n\n       email_in_script  favicon  ext_favicon   img  null_self_redirects  \\\n0                  0.0      1.0          0.0   9.0                 10.0   \n1                  0.0      1.0          0.0  62.0                 10.0   \n2                  0.0      0.0          0.0   0.0                  0.0   \n3                  0.0      1.0          0.0  12.0                 10.0   \n4                  0.0      1.0          0.0  30.0                 10.0   \n...                ...      ...          ...   ...                  ...   \n44508              0.0      0.0          0.0   6.0                  5.0   \n44509              0.0      1.0          1.0   7.0                  0.0   \n44510              0.0      1.0          1.0   1.0                  0.0   \n44511              0.0      0.0          0.0  72.0                  0.0   \n44512             -1.0     -1.0         -1.0  -1.0                 -1.0   \n\n       a_tags  ext_links  iframes  port  \n0       109.0        5.0      0.0  None  \n1       113.0        5.0      0.0  None  \n2         0.0        0.0      0.0  None  \n3       114.0        5.0      0.0  None  \n4       124.0        5.0      0.0  None  \n...       ...        ...      ...   ...  \n44508   100.0        2.0      0.0  None  \n44509    30.0       13.0      0.0  None  \n44510     4.0        4.0      0.0  None  \n44511    74.0       17.0      0.0  None  \n44512    -1.0       -1.0     -1.0  None  \n\n[43371 rows x 136 columns]",
      "text/html": "<div>\n<style scoped>\n    .dataframe tbody tr th:only-of-type {\n        vertical-align: middle;\n    }\n\n    .dataframe tbody tr th {\n        vertical-align: top;\n    }\n\n    .dataframe thead th {\n        text-align: right;\n    }\n</style>\n<table border=\"1\" class=\"dataframe\">\n  <thead>\n    <tr style=\"text-align: right;\">\n      <th></th>\n      <th>url</th>\n      <th>url_dots</th>\n      <th>url_hyphens</th>\n      <th>url_underscores</th>\n      <th>url_slashes</th>\n      <th>url_double_slashes</th>\n      <th>url_questions</th>\n      <th>url_equals</th>\n      <th>url_ats</th>\n      <th>url_amps</th>\n      <th>...</th>\n      <th>disable_right_click</th>\n      <th>email_in_script</th>\n      <th>favicon</th>\n      <th>ext_favicon</th>\n      <th>img</th>\n      <th>null_self_redirects</th>\n      <th>a_tags</th>\n      <th>ext_links</th>\n      <th>iframes</th>\n      <th>port</th>\n    </tr>\n  </thead>\n  <tbody>\n    <tr>\n      <th>0</th>\n      <td>https%3A//www.mckinleyelevator.com/contact-us/...</td>\n      <td>2</td>\n      <td>1.0</td>\n      <td>0.0</td>\n      <td>5.0</td>\n      <td>1.0</td>\n      <td>0.0</td>\n      <td>0.0</td>\n      <td>0.0</td>\n      <td>0.0</td>\n      <td>...</td>\n      <td>0.0</td>\n      <td>0.0</td>\n      <td>1.0</td>\n      <td>0.0</td>\n      <td>9.0</td>\n      <td>10.0</td>\n      <td>109.0</td>\n      <td>5.0</td>\n      <td>0.0</td>\n      <td>None</td>\n    </tr>\n    <tr>\n      <th>1</th>\n      <td>https%3A//www.mckinleyelevator.com/galleries/g...</td>\n      <td>2</td>\n      <td>4.0</td>\n      <td>0.0</td>\n      <td>5.0</td>\n      <td>1.0</td>\n      <td>0.0</td>\n      <td>0.0</td>\n      <td>0.0</td>\n      <td>0.0</td>\n      <td>...</td>\n      <td>0.0</td>\n      <td>0.0</td>\n      <td>1.0</td>\n      <td>0.0</td>\n      <td>62.0</td>\n      <td>10.0</td>\n      <td>113.0</td>\n      <td>5.0</td>\n      <td>0.0</td>\n      <td>None</td>\n    </tr>\n    <tr>\n      <th>2</th>\n      <td>https%3A//www.linkedin.com/company/mckinley-el...</td>\n      <td>2</td>\n      <td>1.0</td>\n      <td>0.0</td>\n      <td>4.0</td>\n      <td>1.0</td>\n      <td>0.0</td>\n      <td>0.0</td>\n      <td>0.0</td>\n      <td>0.0</td>\n      <td>...</td>\n      <td>0.0</td>\n      <td>0.0</td>\n      <td>0.0</td>\n      <td>0.0</td>\n      <td>0.0</td>\n      <td>0.0</td>\n      <td>0.0</td>\n      <td>0.0</td>\n      <td>0.0</td>\n      <td>None</td>\n    </tr>\n    <tr>\n      <th>3</th>\n      <td>https%3A//www.mckinleyelevator.com/products/ma...</td>\n      <td>2</td>\n      <td>2.0</td>\n      <td>0.0</td>\n      <td>5.0</td>\n      <td>1.0</td>\n      <td>0.0</td>\n      <td>0.0</td>\n      <td>0.0</td>\n      <td>0.0</td>\n      <td>...</td>\n      <td>0.0</td>\n      <td>0.0</td>\n      <td>1.0</td>\n      <td>0.0</td>\n      <td>12.0</td>\n      <td>10.0</td>\n      <td>114.0</td>\n      <td>5.0</td>\n      <td>0.0</td>\n      <td>None</td>\n    </tr>\n    <tr>\n      <th>4</th>\n      <td>https%3A//www.mckinleyelevator.com/products/ve...</td>\n      <td>2</td>\n      <td>2.0</td>\n      <td>0.0</td>\n      <td>5.0</td>\n      <td>1.0</td>\n      <td>0.0</td>\n      <td>0.0</td>\n      <td>0.0</td>\n      <td>0.0</td>\n      <td>...</td>\n      <td>0.0</td>\n      <td>0.0</td>\n      <td>1.0</td>\n      <td>0.0</td>\n      <td>30.0</td>\n      <td>10.0</td>\n      <td>124.0</td>\n      <td>5.0</td>\n      <td>0.0</td>\n      <td>None</td>\n    </tr>\n    <tr>\n      <th>...</th>\n      <td>...</td>\n      <td>...</td>\n      <td>...</td>\n      <td>...</td>\n      <td>...</td>\n      <td>...</td>\n      <td>...</td>\n      <td>...</td>\n      <td>...</td>\n      <td>...</td>\n      <td>...</td>\n      <td>...</td>\n      <td>...</td>\n      <td>...</td>\n      <td>...</td>\n      <td>...</td>\n      <td>...</td>\n      <td>...</td>\n      <td>...</td>\n      <td>...</td>\n      <td>...</td>\n    </tr>\n    <tr>\n      <th>44508</th>\n      <td>http%3A//www.bbc.co.uk/privacy/</td>\n      <td>3</td>\n      <td>0.0</td>\n      <td>0.0</td>\n      <td>4.0</td>\n      <td>1.0</td>\n      <td>0.0</td>\n      <td>0.0</td>\n      <td>0.0</td>\n      <td>0.0</td>\n      <td>...</td>\n      <td>0.0</td>\n      <td>0.0</td>\n      <td>0.0</td>\n      <td>0.0</td>\n      <td>6.0</td>\n      <td>5.0</td>\n      <td>100.0</td>\n      <td>2.0</td>\n      <td>0.0</td>\n      <td>None</td>\n    </tr>\n    <tr>\n      <th>44509</th>\n      <td>https%3A//myaccount.google.com/%3Futm_source%3...</td>\n      <td>2</td>\n      <td>0.0</td>\n      <td>2.0</td>\n      <td>3.0</td>\n      <td>1.0</td>\n      <td>1.0</td>\n      <td>3.0</td>\n      <td>0.0</td>\n      <td>2.0</td>\n      <td>...</td>\n      <td>0.0</td>\n      <td>0.0</td>\n      <td>1.0</td>\n      <td>1.0</td>\n      <td>7.0</td>\n      <td>0.0</td>\n      <td>30.0</td>\n      <td>13.0</td>\n      <td>0.0</td>\n      <td>None</td>\n    </tr>\n    <tr>\n      <th>44510</th>\n      <td>https%3A//mail.google.com/mail/%3Ftab%3Dwm</td>\n      <td>2</td>\n      <td>0.0</td>\n      <td>0.0</td>\n      <td>4.0</td>\n      <td>1.0</td>\n      <td>1.0</td>\n      <td>1.0</td>\n      <td>0.0</td>\n      <td>0.0</td>\n      <td>...</td>\n      <td>1.0</td>\n      <td>0.0</td>\n      <td>1.0</td>\n      <td>1.0</td>\n      <td>1.0</td>\n      <td>0.0</td>\n      <td>4.0</td>\n      <td>4.0</td>\n      <td>0.0</td>\n      <td>None</td>\n    </tr>\n    <tr>\n      <th>44511</th>\n      <td>http%3A//news.bbc.co.uk/1/hi/uk/1563716.stm</td>\n      <td>4</td>\n      <td>0.0</td>\n      <td>0.0</td>\n      <td>6.0</td>\n      <td>1.0</td>\n      <td>0.0</td>\n      <td>0.0</td>\n      <td>0.0</td>\n      <td>0.0</td>\n      <td>...</td>\n      <td>0.0</td>\n      <td>0.0</td>\n      <td>0.0</td>\n      <td>0.0</td>\n      <td>72.0</td>\n      <td>0.0</td>\n      <td>74.0</td>\n      <td>17.0</td>\n      <td>0.0</td>\n      <td>None</td>\n    </tr>\n    <tr>\n      <th>44512</th>\n      <td>fashionsnightout.com</td>\n      <td>1</td>\n      <td>0.0</td>\n      <td>0.0</td>\n      <td>2.0</td>\n      <td>1.0</td>\n      <td>0.0</td>\n      <td>0.0</td>\n      <td>0.0</td>\n      <td>0.0</td>\n      <td>...</td>\n      <td>-1.0</td>\n      <td>-1.0</td>\n      <td>-1.0</td>\n      <td>-1.0</td>\n      <td>-1.0</td>\n      <td>-1.0</td>\n      <td>-1.0</td>\n      <td>-1.0</td>\n      <td>-1.0</td>\n      <td>None</td>\n    </tr>\n  </tbody>\n</table>\n<p>43371 rows × 136 columns</p>\n</div>"
     },
     "execution_count": 44,
     "metadata": {},
     "output_type": "execute_result"
    }
   ],
   "source": [
    "legit_df"
   ],
   "metadata": {
    "collapsed": false,
    "pycharm": {
     "name": "#%%\n"
    }
   }
  },
  {
   "cell_type": "code",
   "execution_count": 45,
   "outputs": [
    {
     "data": {
      "text/plain": "                                                     url url_dots  \\\n0      https%3A//www.mckinleyelevator.com/contact-us/...        2   \n1      https%3A//www.mckinleyelevator.com/galleries/g...        2   \n2      https%3A//www.linkedin.com/company/mckinley-el...        2   \n3      https%3A//www.mckinleyelevator.com/products/ma...        2   \n4      https%3A//www.mckinleyelevator.com/products/ve...        2   \n...                                                  ...      ...   \n44508                    http%3A//www.bbc.co.uk/privacy/        3   \n44509  https%3A//myaccount.google.com/%3Futm_source%3...        2   \n44510         https%3A//mail.google.com/mail/%3Ftab%3Dwm        2   \n44511        http%3A//news.bbc.co.uk/1/hi/uk/1563716.stm        4   \n44512                               fashionsnightout.com        1   \n\n       url_hyphens  url_underscores  url_slashes  url_double_slashes  \\\n0              1.0              0.0          5.0                 1.0   \n1              4.0              0.0          5.0                 1.0   \n2              1.0              0.0          4.0                 1.0   \n3              2.0              0.0          5.0                 1.0   \n4              2.0              0.0          5.0                 1.0   \n...            ...              ...          ...                 ...   \n44508          0.0              0.0          4.0                 1.0   \n44509          0.0              2.0          3.0                 1.0   \n44510          0.0              0.0          4.0                 1.0   \n44511          0.0              0.0          6.0                 1.0   \n44512          0.0              0.0          2.0                 1.0   \n\n       url_questions  url_equals  url_ats  url_amps  ...  disable_right_click  \\\n0                0.0         0.0      0.0       0.0  ...                  0.0   \n1                0.0         0.0      0.0       0.0  ...                  0.0   \n2                0.0         0.0      0.0       0.0  ...                  0.0   \n3                0.0         0.0      0.0       0.0  ...                  0.0   \n4                0.0         0.0      0.0       0.0  ...                  0.0   \n...              ...         ...      ...       ...  ...                  ...   \n44508            0.0         0.0      0.0       0.0  ...                  0.0   \n44509            1.0         3.0      0.0       2.0  ...                  0.0   \n44510            1.0         1.0      0.0       0.0  ...                  1.0   \n44511            0.0         0.0      0.0       0.0  ...                  0.0   \n44512            0.0         0.0      0.0       0.0  ...                 -1.0   \n\n       email_in_script  favicon  ext_favicon   img  null_self_redirects  \\\n0                  0.0      1.0          0.0   9.0                 10.0   \n1                  0.0      1.0          0.0  62.0                 10.0   \n2                  0.0      0.0          0.0   0.0                  0.0   \n3                  0.0      1.0          0.0  12.0                 10.0   \n4                  0.0      1.0          0.0  30.0                 10.0   \n...                ...      ...          ...   ...                  ...   \n44508              0.0      0.0          0.0   6.0                  5.0   \n44509              0.0      1.0          1.0   7.0                  0.0   \n44510              0.0      1.0          1.0   1.0                  0.0   \n44511              0.0      0.0          0.0  72.0                  0.0   \n44512             -1.0     -1.0         -1.0  -1.0                 -1.0   \n\n       a_tags  ext_links  iframes  port  \n0       109.0        5.0      0.0  None  \n1       113.0        5.0      0.0  None  \n2         0.0        0.0      0.0  None  \n3       114.0        5.0      0.0  None  \n4       124.0        5.0      0.0  None  \n...       ...        ...      ...   ...  \n44508   100.0        2.0      0.0  None  \n44509    30.0       13.0      0.0  None  \n44510     4.0        4.0      0.0  None  \n44511    74.0       17.0      0.0  None  \n44512    -1.0       -1.0     -1.0  None  \n\n[43371 rows x 136 columns]",
      "text/html": "<div>\n<style scoped>\n    .dataframe tbody tr th:only-of-type {\n        vertical-align: middle;\n    }\n\n    .dataframe tbody tr th {\n        vertical-align: top;\n    }\n\n    .dataframe thead th {\n        text-align: right;\n    }\n</style>\n<table border=\"1\" class=\"dataframe\">\n  <thead>\n    <tr style=\"text-align: right;\">\n      <th></th>\n      <th>url</th>\n      <th>url_dots</th>\n      <th>url_hyphens</th>\n      <th>url_underscores</th>\n      <th>url_slashes</th>\n      <th>url_double_slashes</th>\n      <th>url_questions</th>\n      <th>url_equals</th>\n      <th>url_ats</th>\n      <th>url_amps</th>\n      <th>...</th>\n      <th>disable_right_click</th>\n      <th>email_in_script</th>\n      <th>favicon</th>\n      <th>ext_favicon</th>\n      <th>img</th>\n      <th>null_self_redirects</th>\n      <th>a_tags</th>\n      <th>ext_links</th>\n      <th>iframes</th>\n      <th>port</th>\n    </tr>\n  </thead>\n  <tbody>\n    <tr>\n      <th>0</th>\n      <td>https%3A//www.mckinleyelevator.com/contact-us/...</td>\n      <td>2</td>\n      <td>1.0</td>\n      <td>0.0</td>\n      <td>5.0</td>\n      <td>1.0</td>\n      <td>0.0</td>\n      <td>0.0</td>\n      <td>0.0</td>\n      <td>0.0</td>\n      <td>...</td>\n      <td>0.0</td>\n      <td>0.0</td>\n      <td>1.0</td>\n      <td>0.0</td>\n      <td>9.0</td>\n      <td>10.0</td>\n      <td>109.0</td>\n      <td>5.0</td>\n      <td>0.0</td>\n      <td>None</td>\n    </tr>\n    <tr>\n      <th>1</th>\n      <td>https%3A//www.mckinleyelevator.com/galleries/g...</td>\n      <td>2</td>\n      <td>4.0</td>\n      <td>0.0</td>\n      <td>5.0</td>\n      <td>1.0</td>\n      <td>0.0</td>\n      <td>0.0</td>\n      <td>0.0</td>\n      <td>0.0</td>\n      <td>...</td>\n      <td>0.0</td>\n      <td>0.0</td>\n      <td>1.0</td>\n      <td>0.0</td>\n      <td>62.0</td>\n      <td>10.0</td>\n      <td>113.0</td>\n      <td>5.0</td>\n      <td>0.0</td>\n      <td>None</td>\n    </tr>\n    <tr>\n      <th>2</th>\n      <td>https%3A//www.linkedin.com/company/mckinley-el...</td>\n      <td>2</td>\n      <td>1.0</td>\n      <td>0.0</td>\n      <td>4.0</td>\n      <td>1.0</td>\n      <td>0.0</td>\n      <td>0.0</td>\n      <td>0.0</td>\n      <td>0.0</td>\n      <td>...</td>\n      <td>0.0</td>\n      <td>0.0</td>\n      <td>0.0</td>\n      <td>0.0</td>\n      <td>0.0</td>\n      <td>0.0</td>\n      <td>0.0</td>\n      <td>0.0</td>\n      <td>0.0</td>\n      <td>None</td>\n    </tr>\n    <tr>\n      <th>3</th>\n      <td>https%3A//www.mckinleyelevator.com/products/ma...</td>\n      <td>2</td>\n      <td>2.0</td>\n      <td>0.0</td>\n      <td>5.0</td>\n      <td>1.0</td>\n      <td>0.0</td>\n      <td>0.0</td>\n      <td>0.0</td>\n      <td>0.0</td>\n      <td>...</td>\n      <td>0.0</td>\n      <td>0.0</td>\n      <td>1.0</td>\n      <td>0.0</td>\n      <td>12.0</td>\n      <td>10.0</td>\n      <td>114.0</td>\n      <td>5.0</td>\n      <td>0.0</td>\n      <td>None</td>\n    </tr>\n    <tr>\n      <th>4</th>\n      <td>https%3A//www.mckinleyelevator.com/products/ve...</td>\n      <td>2</td>\n      <td>2.0</td>\n      <td>0.0</td>\n      <td>5.0</td>\n      <td>1.0</td>\n      <td>0.0</td>\n      <td>0.0</td>\n      <td>0.0</td>\n      <td>0.0</td>\n      <td>...</td>\n      <td>0.0</td>\n      <td>0.0</td>\n      <td>1.0</td>\n      <td>0.0</td>\n      <td>30.0</td>\n      <td>10.0</td>\n      <td>124.0</td>\n      <td>5.0</td>\n      <td>0.0</td>\n      <td>None</td>\n    </tr>\n    <tr>\n      <th>...</th>\n      <td>...</td>\n      <td>...</td>\n      <td>...</td>\n      <td>...</td>\n      <td>...</td>\n      <td>...</td>\n      <td>...</td>\n      <td>...</td>\n      <td>...</td>\n      <td>...</td>\n      <td>...</td>\n      <td>...</td>\n      <td>...</td>\n      <td>...</td>\n      <td>...</td>\n      <td>...</td>\n      <td>...</td>\n      <td>...</td>\n      <td>...</td>\n      <td>...</td>\n      <td>...</td>\n    </tr>\n    <tr>\n      <th>44508</th>\n      <td>http%3A//www.bbc.co.uk/privacy/</td>\n      <td>3</td>\n      <td>0.0</td>\n      <td>0.0</td>\n      <td>4.0</td>\n      <td>1.0</td>\n      <td>0.0</td>\n      <td>0.0</td>\n      <td>0.0</td>\n      <td>0.0</td>\n      <td>...</td>\n      <td>0.0</td>\n      <td>0.0</td>\n      <td>0.0</td>\n      <td>0.0</td>\n      <td>6.0</td>\n      <td>5.0</td>\n      <td>100.0</td>\n      <td>2.0</td>\n      <td>0.0</td>\n      <td>None</td>\n    </tr>\n    <tr>\n      <th>44509</th>\n      <td>https%3A//myaccount.google.com/%3Futm_source%3...</td>\n      <td>2</td>\n      <td>0.0</td>\n      <td>2.0</td>\n      <td>3.0</td>\n      <td>1.0</td>\n      <td>1.0</td>\n      <td>3.0</td>\n      <td>0.0</td>\n      <td>2.0</td>\n      <td>...</td>\n      <td>0.0</td>\n      <td>0.0</td>\n      <td>1.0</td>\n      <td>1.0</td>\n      <td>7.0</td>\n      <td>0.0</td>\n      <td>30.0</td>\n      <td>13.0</td>\n      <td>0.0</td>\n      <td>None</td>\n    </tr>\n    <tr>\n      <th>44510</th>\n      <td>https%3A//mail.google.com/mail/%3Ftab%3Dwm</td>\n      <td>2</td>\n      <td>0.0</td>\n      <td>0.0</td>\n      <td>4.0</td>\n      <td>1.0</td>\n      <td>1.0</td>\n      <td>1.0</td>\n      <td>0.0</td>\n      <td>0.0</td>\n      <td>...</td>\n      <td>1.0</td>\n      <td>0.0</td>\n      <td>1.0</td>\n      <td>1.0</td>\n      <td>1.0</td>\n      <td>0.0</td>\n      <td>4.0</td>\n      <td>4.0</td>\n      <td>0.0</td>\n      <td>None</td>\n    </tr>\n    <tr>\n      <th>44511</th>\n      <td>http%3A//news.bbc.co.uk/1/hi/uk/1563716.stm</td>\n      <td>4</td>\n      <td>0.0</td>\n      <td>0.0</td>\n      <td>6.0</td>\n      <td>1.0</td>\n      <td>0.0</td>\n      <td>0.0</td>\n      <td>0.0</td>\n      <td>0.0</td>\n      <td>...</td>\n      <td>0.0</td>\n      <td>0.0</td>\n      <td>0.0</td>\n      <td>0.0</td>\n      <td>72.0</td>\n      <td>0.0</td>\n      <td>74.0</td>\n      <td>17.0</td>\n      <td>0.0</td>\n      <td>None</td>\n    </tr>\n    <tr>\n      <th>44512</th>\n      <td>fashionsnightout.com</td>\n      <td>1</td>\n      <td>0.0</td>\n      <td>0.0</td>\n      <td>2.0</td>\n      <td>1.0</td>\n      <td>0.0</td>\n      <td>0.0</td>\n      <td>0.0</td>\n      <td>0.0</td>\n      <td>...</td>\n      <td>-1.0</td>\n      <td>-1.0</td>\n      <td>-1.0</td>\n      <td>-1.0</td>\n      <td>-1.0</td>\n      <td>-1.0</td>\n      <td>-1.0</td>\n      <td>-1.0</td>\n      <td>-1.0</td>\n      <td>None</td>\n    </tr>\n  </tbody>\n</table>\n<p>43371 rows × 136 columns</p>\n</div>"
     },
     "execution_count": 45,
     "metadata": {},
     "output_type": "execute_result"
    }
   ],
   "source": [
    "legit_df.drop_duplicates()"
   ],
   "metadata": {
    "collapsed": false,
    "pycharm": {
     "name": "#%%\n"
    }
   }
  },
  {
   "cell_type": "code",
   "execution_count": 46,
   "outputs": [],
   "source": [
    "def fix(x):\n",
    "    return x.replace(\"%3A\", \":\")"
   ],
   "metadata": {
    "collapsed": false,
    "pycharm": {
     "name": "#%%\n"
    }
   }
  },
  {
   "cell_type": "code",
   "execution_count": 47,
   "outputs": [
    {
     "data": {
      "text/plain": "0        https://www.mckinleyelevator.com/contact-us/ne...\n1        https://www.mckinleyelevator.com/galleries/gal...\n2        https://www.linkedin.com/company/mckinley-elev...\n3        https://www.mckinleyelevator.com/products/manu...\n4        https://www.mckinleyelevator.com/products/vert...\n                               ...                        \n44508                        http://www.bbc.co.uk/privacy/\n44509    https://myaccount.google.com/%3Futm_source%3DO...\n44510             https://mail.google.com/mail/%3Ftab%3Dwm\n44511            http://news.bbc.co.uk/1/hi/uk/1563716.stm\n44512                                 fashionsnightout.com\nName: url, Length: 43371, dtype: object"
     },
     "execution_count": 47,
     "metadata": {},
     "output_type": "execute_result"
    }
   ],
   "source": [
    "legit_df['url'].apply(fix)"
   ],
   "metadata": {
    "collapsed": false,
    "pycharm": {
     "name": "#%%\n"
    }
   }
  },
  {
   "cell_type": "code",
   "execution_count": 48,
   "outputs": [],
   "source": [
    "legit_df['url'] = legit_df['url'].apply(fix)"
   ],
   "metadata": {
    "collapsed": false,
    "pycharm": {
     "name": "#%%\n"
    }
   }
  },
  {
   "cell_type": "code",
   "execution_count": 49,
   "outputs": [],
   "source": [
    "legit_df = legit_df.replace(\"None\", float('nan'))"
   ],
   "metadata": {
    "collapsed": false,
    "pycharm": {
     "name": "#%%\n"
    }
   }
  },
  {
   "cell_type": "code",
   "execution_count": 50,
   "outputs": [],
   "source": [
    "legit_df.port = legit_df.port.astype(\"float64\")"
   ],
   "metadata": {
    "collapsed": false,
    "pycharm": {
     "name": "#%%\n"
    }
   }
  },
  {
   "cell_type": "code",
   "execution_count": 51,
   "outputs": [],
   "source": [
    "legit_df['label'] = 0"
   ],
   "metadata": {
    "collapsed": false,
    "pycharm": {
     "name": "#%%\n"
    }
   }
  },
  {
   "cell_type": "code",
   "execution_count": 52,
   "outputs": [],
   "source": [
    "legit_df.to_csv(\"collected_data_from_non_phishing_urls.csv\", index=False)"
   ],
   "metadata": {
    "collapsed": false,
    "pycharm": {
     "name": "#%%\n"
    }
   }
  },
  {
   "cell_type": "code",
   "execution_count": 53,
   "outputs": [],
   "source": [
    "collected_df = pd.concat([legit_df, phish_df])"
   ],
   "metadata": {
    "collapsed": false,
    "pycharm": {
     "name": "#%%\n"
    }
   }
  },
  {
   "cell_type": "code",
   "execution_count": 54,
   "outputs": [],
   "source": [
    "collected_df.to_csv(\"collected_data_merged.csv\", index=False)"
   ],
   "metadata": {
    "collapsed": false,
    "pycharm": {
     "name": "#%%\n"
    }
   }
  }
 ],
 "metadata": {
  "kernelspec": {
   "display_name": "Python 3",
   "language": "python",
   "name": "python3"
  },
  "language_info": {
   "codemirror_mode": {
    "name": "ipython",
    "version": 2
   },
   "file_extension": ".py",
   "mimetype": "text/x-python",
   "name": "python",
   "nbconvert_exporter": "python",
   "pygments_lexer": "ipython2",
   "version": "2.7.6"
  }
 },
 "nbformat": 4,
 "nbformat_minor": 0
}